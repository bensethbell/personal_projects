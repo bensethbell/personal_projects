{
 "metadata": {
  "name": ""
 },
 "nbformat": 3,
 "nbformat_minor": 0,
 "worksheets": [
  {
   "cells": [
    {
     "cell_type": "code",
     "collapsed": false,
     "input": [
      "import requests\n",
      "import bs4\n",
      "from pymongo import MongoClient\n",
      "import lyric_scrape as ls"
     ],
     "language": "python",
     "metadata": {},
     "outputs": [],
     "prompt_number": 2
    },
    {
     "cell_type": "code",
     "collapsed": false,
     "input": [
      "ls.pull_lyrics('http://rap.genius.com/The-notorious-big-juicy-lyrics');"
     ],
     "language": "python",
     "metadata": {},
     "outputs": [
      {
       "output_type": "stream",
       "stream": "stdout",
       "text": [
        "b2\n"
       ]
      }
     ],
     "prompt_number": 3
    },
    {
     "cell_type": "code",
     "collapsed": false,
     "input": [
      "r = requests.get('http://genius.com/artists/The-notorious-big')"
     ],
     "language": "python",
     "metadata": {},
     "outputs": [],
     "prompt_number": 4
    },
    {
     "cell_type": "code",
     "collapsed": false,
     "input": [
      "soup = bs4.BeautifulSoup(r.text, \"html.parser\")"
     ],
     "language": "python",
     "metadata": {},
     "outputs": [],
     "prompt_number": 5
    },
    {
     "cell_type": "code",
     "collapsed": false,
     "input": [
      "body = soup.find_all('a')"
     ],
     "language": "python",
     "metadata": {},
     "outputs": [],
     "prompt_number": 6
    },
    {
     "cell_type": "code",
     "collapsed": false,
     "input": [
      "print body"
     ],
     "language": "python",
     "metadata": {},
     "outputs": [
      {
       "output_type": "stream",
       "stream": "stdout",
       "text": [
        "[<a class=\"tag_link tappable\" href=\"http://rap.genius.com/\">Rap</a>, <a class=\"tag_link tappable\" href=\"http://rock.genius.com/\">Rock</a>, <a class=\"tag_link tappable\" href=\"http://lit.genius.com/\">Lit</a>, <a class=\"tag_link tappable\" href=\"http://news.genius.com/\">News</a>, <a class=\"tag_link tappable\" href=\"http://pop.genius.com/\">Pop</a>, <a class=\"tag_link tappable\" href=\"http://r-b.genius.com/\">R&amp;B;</a>, <a class=\"tag_link tappable\" href=\"http://history.genius.com/\">History</a>, <a class=\"tag_link tappable\" href=\"http://sports.genius.com/\">Sports</a>, <a class=\"tag_link tappable\" href=\"http://screen.genius.com/\">Screen</a>, <a class=\"tag_link tappable\" href=\"http://law.genius.com/\">Law</a>, <a class=\"tag_link tappable\" href=\"http://tech.genius.com/\">Tech</a>, <a class=\"tag_link tappable\" href=\"http://x.genius.com/\">X</a>, <a class=\"tag_link tappable\" href=\"http://meta.genius.com/\">Meta</a>, <a class=\"facebox first_button\" href=\"/signup\" rel=\"nofollow\">Sign Up</a>, <a class=\"facebox last_button \" href=\"/login\" rel=\"nofollow\">Sign in</a>, <a href=\"http://genius.com/\" id=\"wordmark\">Genius</a>, <a class=\"submit_search\" href=\"#\">submit</a>, <a class=\"new_text primary_header_link\" href=\"/new\">Create</a>, <a class=\"forums_link primary_header_link\" href=\"http://genius.com/forums\">Forums</a>, <a class=\"toggle_follow button new_status_follow\" href=\"/artists/22/follows\" rel=\"nofollow\" tooltip=\"Follow The Notorious B.I.G. to see their new songs, texts, and annotations in your newsfeed\">Follow</a>, <a href=\"http://genius.com/posts/Notes-on-ready-to-die\">Notes On <em>Ready To Die</em></a>, <a class=\"album_link\" href=\"/albums/The-notorious-big/Born-again\">Born Again</a>, <a class=\"album_link\" href=\"/albums/The-notorious-big/Duets-the-final-chapter\">Duets: The Final Chapter</a>, <a class=\"album_link\" href=\"/albums/The-notorious-big/Life-after-death\">Life After Death</a>, <a class=\"album_link\" href=\"/albums/The-notorious-b-i-g/Life-after-death-french-version\">Life After Death ( french version)</a>, <a class=\"album_link\" href=\"/albums/The-notorious-b-i-g/Notorious-soundtrack\">Notorious Soundtrack</a>, <a class=\"album_link\" href=\"/albums/The-notorious-big/Ready-to-die\">Ready to Die</a>, <a class=\"album_link\" href=\"/albums/The-notorious-b-i-g/Ready-to-die-hungarian-version\">Ready To Die (Hungarian Version)</a>, <a class=\"song_name published song_link\" href=\"http://rap.genius.com/The-notorious-big-juicy-lyrics\" title=\"Juicy prod. by Pete Rock &amp; Poke of Trackmasters\">\n",
        "<span class=\"title_with_artists\"><span class=\"song_title\">Juicy</span> prod. by Pete Rock &amp; Poke of Trackmasters</span>\n",
        "</a>, <a class=\"song_name published song_link\" href=\"http://rap.genius.com/The-notorious-big-i-got-a-story-to-tell-lyrics\" title=\"I Got A Story to Tell prod. by Buckwild, Chucky Thompson &amp; Diddy\">\n",
        "<span class=\"title_with_artists\"><span class=\"song_title\">I Got A Story to Tell</span> prod. by Buckwild, Chucky Thompson &amp; Diddy</span>\n",
        "</a>, <a class=\"song_name published song_link\" href=\"http://rap.genius.com/The-notorious-big-suicidal-thoughts-lyrics\" title=\"Suicidal Thoughts prod. by Lord Finesse\">\n",
        "<span class=\"title_with_artists\"><span class=\"song_title\">Suicidal Thoughts</span> prod. by Lord Finesse</span>\n",
        "</a>, <a class=\"song_name published song_link\" href=\"http://rap.genius.com/The-notorious-big-big-poppa-lyrics\" title=\"Big Poppa prod. by Chucky Thompson &amp; Diddy\">\n",
        "<span class=\"title_with_artists\"><span class=\"song_title\">Big Poppa</span> prod. by Chucky Thompson &amp; Diddy</span>\n",
        "</a>, <a class=\"song_name published best_of song_link\" href=\"http://rap.genius.com/The-notorious-big-ten-crack-commandments-lyrics\" title=\"Ten Crack Commandments prod. by DJ Premier\">\n",
        "<span class=\"title_with_artists\"><span class=\"song_title\">Ten Crack Commandments</span> prod. by DJ Premier</span>\n",
        "</a>, <a class=\"song_name published song_link\" href=\"http://rap.genius.com/The-notorious-big-hypnotize-lyrics\" title=\"Hypnotize prod. by Diddy &amp; The Mad Rapper\">\n",
        "<span class=\"title_with_artists\"><span class=\"song_title\">Hypnotize</span> prod. by Diddy &amp; The Mad Rapper</span>\n",
        "</a>, <a class=\"song_name published song_link\" href=\"http://rap.genius.com/The-notorious-big-gimme-the-loot-lyrics\" title=\"Gimme The Loot prod. by Easy Mo Bee\">\n",
        "<span class=\"title_with_artists\"><span class=\"song_title\">Gimme The Loot</span> prod. by Easy Mo Bee</span>\n",
        "</a>, <a class=\"song_name work_in_progress song_link\" href=\"http://rap.genius.com/Nelly-1000-stacks-lyrics\" title=\"1000 Stacks by Nelly  (Ft. Diddy) prod. by Don Vito\">\n",
        "<span class=\"title_with_artists\"><span class=\"song_title\">1000 Stacks</span> by Nelly  (Ft. Diddy) prod. by Don Vito</span>\n",
        "</a>, <a class=\"song_name work_in_progress song_link\" href=\"http://rap.genius.com/The-notorious-big-16-bars-lyrics\" title=\"16 Bars\">\n",
        "<span class=\"title_with_artists\"><span class=\"song_title\">16 Bars</span></span>\n",
        "</a>, <a class=\"song_name under_review song_link\" href=\"http://rap.genius.com/The-notorious-big-1970-somethin-lyrics\" title=\"1970 Somethin' (Ft. Faith Evans &amp; Game) prod. by Andre Harris, Static Major &amp; Vidal Davis\">\n",
        "<span class=\"title_with_artists\"><span class=\"song_title\">1970 Somethin'</span> (Ft. Faith Evans &amp; Game) prod. by Andre Harris, Static Major &amp; Vidal Davis</span>\n",
        "</a>, <a class=\"song_name work_in_progress song_link\" href=\"http://rap.genius.com/The-notorious-big-1988-freestyle-lyrics\" title=\"1988 Freestyle\">\n",
        "<span class=\"title_with_artists\"><span class=\"song_title\">1988 Freestyle</span></span>\n",
        "</a>, <a class=\"song_name work_in_progress song_link\" href=\"http://rap.genius.com/2pac-2pac-and-big-classic-freestyle-lyrics\" title=\"2pac and Big Classic Freestyle by 2Pac \">\n",
        "<span class=\"title_with_artists\"><span class=\"song_title\">2pac and Big Classic Freestyle</span> by 2Pac </span>\n",
        "</a>, <a class=\"song_name work_in_progress song_link\" href=\"http://rap.genius.com/Red-hot-lover-tone-4-my-peeps-lyrics\" title=\"4 My Peeps by Red Hot Lover Tone  (Ft. M.O.P. &amp; Prince Po) prod. by Frank Nitty &amp; Tone of Trackmasters\">\n",
        "<span class=\"title_with_artists\"><span class=\"song_title\">4 My Peeps</span> by Red Hot Lover Tone  (Ft. M.O.P. &amp; Prince Po) prod. by Frank Nitty &amp; Tone of Trackmasters</span>\n",
        "</a>, <a class=\"song_name work_in_progress song_link\" href=\"http://rap.genius.com/Heavy-d-a-buncha-niggas-lyrics\" title=\"A Buncha Niggas by Heavy D  (Ft. Busta Rhymes, MC Guru, Rob-O &amp; Third Eye) prod. by Heavy D &amp; Jesse West\">\n",
        "<span class=\"title_with_artists\"><span class=\"song_title\">A Buncha Niggas</span> by Heavy D  (Ft. Busta Rhymes, MC Guru, Rob-O &amp; Third Eye) prod. by Heavy D &amp; Jesse West</span>\n",
        "</a>, <a class=\"song_name published song_link\" href=\"http://rap.genius.com/Jay-z-a-dream-lyrics\" title=\"A Dream by Jay Z  (Ft. Faith Evans) prod. by Kanye West\">\n",
        "<span class=\"title_with_artists\"><span class=\"song_title\">A Dream</span> by Jay Z  (Ft. Faith Evans) prod. by Kanye West</span>\n",
        "</a>, <a class=\"song_name work_in_progress song_link\" href=\"http://rap.genius.com/Diddy-angels-lyrics\" title=\"Angels by Diddy  (Ft. Dirty Money) prod. by Diddy &amp; Mario Winans\">\n",
        "<span class=\"title_with_artists\"><span class=\"song_title\">Angels</span> by Diddy  (Ft. Dirty Money) prod. by Diddy &amp; Mario Winans</span>\n",
        "</a>, <a class=\"song_name published song_link\" href=\"http://rap.genius.com/The-notorious-big-another-lyrics\" title=\"Another (Ft. Lil Kim) prod. by Diddy &amp; Stevie J\">\n",
        "<span class=\"title_with_artists\"><span class=\"song_title\">Another</span> (Ft. Lil Kim) prod. by Diddy &amp; Stevie J</span>\n",
        "</a>, <a class=\"song_name work_in_progress song_link\" href=\"http://rap.genius.com/The-notorious-big-beef-lyrics\" title=\"Beef (Ft. Mobb Deep) prod. by Havoc\">\n",
        "<span class=\"title_with_artists\"><span class=\"song_title\">Beef</span> (Ft. Mobb Deep) prod. by Havoc</span>\n",
        "</a>, <a class=\"song_name under_review song_link\" href=\"http://rap.genius.com/Diddy-been-around-the-world-lyrics\" title=\"Been Around the World by Diddy  (Ft. Mase) prod. by Amen-Ra, Diddy &amp; The Mad Rapper\">\n",
        "<span class=\"title_with_artists\"><span class=\"song_title\">Been Around the World</span> by Diddy  (Ft. Mase) prod. by Amen-Ra, Diddy &amp; The Mad Rapper</span>\n",
        "</a>, <a class=\"song_name under_review song_link\" href=\"http://rap.genius.com/The-notorious-big-big-booty-hoes-lyrics\" title='Big Booty Hoes (Ft. Too Short) prod. by Daven \"Prestige\" Vanderpool'>\n",
        "<span class=\"title_with_artists\"><span class=\"song_title\">Big Booty Hoes</span> (Ft. Too Short) prod. by Daven \"Prestige\" Vanderpool</span>\n",
        "</a>, <a class=\"song_name published song_link\" href=\"http://rap.genius.com/Dj-bigcold-big-dreams-remix-lyrics\" title=\"Big Dreams Remix by DJ Bigcold  (Ft. Game &amp; Nas) prod. by DJ Bigcold\">\n",
        "<span class=\"title_with_artists\"><span class=\"song_title\">Big Dreams Remix</span> by DJ Bigcold  (Ft. Game &amp; Nas) prod. by DJ Bigcold</span>\n",
        "</a>, <a class=\"song_name work_in_progress song_link\" href=\"http://rap.genius.com/The-notorious-big-biggie-lyrics\" title=\"Biggie (Ft. Junior M.A.F.I.A.) prod. by Nashiem Myrick\">\n",
        "<span class=\"title_with_artists\"><span class=\"song_title\">Biggie</span> (Ft. Junior M.A.F.I.A.) prod. by Nashiem Myrick</span>\n",
        "</a>, <a class=\"song_name published song_link\" href=\"http://rap.genius.com/The-notorious-big-biggie-smalls-pepsi-freestyle-lyrics\" title=\"Biggie Smalls Pepsi Freestyle\">\n",
        "<span class=\"title_with_artists\"><span class=\"song_title\">Biggie Smalls Pepsi Freestyle</span></span>\n",
        "</a>, <a class=\"song_name under_review song_link\" href=\"http://rap.genius.com/Funkmaster-flex-biggie-tupac-live-freestyle-lyrics\" title=\"Biggie/Tupac Live Freestyle by Funkmaster Flex  (Ft. 2Pac) prod. by Big Kap &amp; DJ Mister Cee\">\n",
        "<span class=\"title_with_artists\"><span class=\"song_title\">Biggie/Tupac Live Freestyle</span> by Funkmaster Flex  (Ft. 2Pac) prod. by Big Kap &amp; DJ Mister Cee</span>\n",
        "</a>, <a class=\"song_name work_in_progress song_link\" href=\"http://rap.genius.com/The-notorious-big-big-interlude-lyrics\" title=\"B.I.G. Interlude prod. by The Mad Rapper\">\n",
        "<span class=\"title_with_artists\"><span class=\"song_title\">B.I.G. Interlude</span> prod. by The Mad Rapper</span>\n",
        "</a>, <a class=\"song_name published song_link\" href=\"http://rap.genius.com/The-notorious-big-big-poppa-lyrics\" title=\"Big Poppa prod. by Chucky Thompson &amp; Diddy\">\n",
        "<span class=\"title_with_artists\"><span class=\"song_title\">Big Poppa</span> prod. by Chucky Thompson &amp; Diddy</span>\n",
        "</a>, <a class=\"song_name published song_link\" href=\"http://rap.genius.com/The-notorious-big-big-poppa-so-so-def-remix-lyrics\" title=\"Big Poppa (So So Def Remix) (Ft. Jermaine Dupri)\">\n",
        "<span class=\"title_with_artists\"><span class=\"song_title\">Big Poppa (So So Def Remix)</span> (Ft. Jermaine Dupri)</span>\n",
        "</a>, <a href=\"/artists/songs?for_artist_page=22&amp;id=The-notorious-big&amp;page=2&amp;pagination=true\" rel=\"next\">2</a>, <a href=\"/artists/songs?for_artist_page=22&amp;id=The-notorious-big&amp;page=3&amp;pagination=true\">3</a>, <a href=\"/artists/songs?for_artist_page=22&amp;id=The-notorious-big&amp;page=4&amp;pagination=true\">4</a>, <a href=\"/artists/songs?for_artist_page=22&amp;id=The-notorious-big&amp;page=5&amp;pagination=true\">5</a>, <a href=\"/artists/songs?for_artist_page=22&amp;id=The-notorious-big&amp;page=6&amp;pagination=true\">6</a>, <a href=\"/artists/songs?for_artist_page=22&amp;id=The-notorious-big&amp;page=7&amp;pagination=true\">7</a>, <a href=\"/artists/songs?for_artist_page=22&amp;id=The-notorious-big&amp;page=8&amp;pagination=true\">8</a>, <a href=\"/artists/songs?for_artist_page=22&amp;id=The-notorious-big&amp;page=9&amp;pagination=true\">9</a>, <a href=\"/artists/songs?for_artist_page=22&amp;id=The-notorious-big&amp;page=10&amp;pagination=true\">10</a>, <a href=\"/artists/songs?for_artist_page=22&amp;id=The-notorious-big&amp;page=11&amp;pagination=true\">11</a>, <a href=\"/artists/songs?for_artist_page=22&amp;id=The-notorious-big&amp;page=12&amp;pagination=true\">12</a>, <a class=\"next_page\" href=\"/artists/songs?for_artist_page=22&amp;id=The-notorious-big&amp;page=2&amp;pagination=true\" rel=\"next\">Next \u00bb</a>, <a href=\"/artists\">\u00ab Back to the list of artists</a>, <a class=\"toggle_lyric_editor toggle_target\" data-focus=\".lyric_text:visible\" data-relative=\"true\" data-target=\"~ .lyric_editor\">Correct this Line</a>, <a class=\"toggle_video_id toggle_target\" data-relative=\"true\" data-target=\"~ .video_id_container\">Edit Video Id</a>, <a class=\"image_adder edit_annotation_option\">Add an Image</a>, <a class=\"formatting_help_button edit_annotation_option toggle_target\" data-relative=\"true\" data-target=\"~ .explanation_instructions.not_verified\">Formatting Help</a>, <a class=\"verified_help_button edit_annotation_option toggle_target\" data-relative=\"true\" data-target=\"~ .explanation_instructions.verified_artist\">Help Writing Verified Annotations</a>, <a class=\"formatting_help_toggle\" href=\"#\">\n",
        "<span class=\"unexpanded\">Click here for more formatting help (lists, blockquotes, etc)</span>\n",
        "<span class=\"expanded\">Hide formatting help</span>\n",
        "</a>, <a href=\"/837333\">is this interesting?</a>, <a href=\"/837268\">Does this add anything to the line?</a>, <a class=\"formatting_help_toggle\" href=\"#\">\n",
        "<span class=\"unexpanded\">Click here for more formatting help (lists, blockquotes, etc)</span>\n",
        "<span class=\"expanded\">Hide formatting help</span>\n",
        "</a>, <a href=\"http://meta.genius.com/Genius-contributor-guidelines-annotated\" target=\"_blank\">More ways to make your annotations better</a>, <a href=\"/about\">About Genius</a>, <a href=\"/embed_guide\">Embed a Text</a>, <a href=\"/verified-artists\">Verified Artists</a>, <a href=\"/contributor_guidelines\">Contributor Guidelines</a>, <a href=\"/static/education\">Education</a>, <a class=\"jobs\" href=\"/jobs\">Jobs</a>, <a class=\"terms_of_use\" href=\"/static/terms\" rel=\"nofollow\" target=\"_blank\">Terms of Use</a>, <a class=\"privacy_policy\" href=\"/static/privacy_policy\" rel=\"nofollow\" target=\"_blank\">Privacy Policy</a>, <a class=\"contact_us facebox\" href=\"/feedback/new\" rel=\"nofollow\">Contact us</a>, <a href=\"/static/terms\" target=\"_blank\">Terms of Service</a>, <a class=\"facebox\" href=\"/login\">Sign in</a>, <a class=\"cameratag_accept_btn cameratag_publish\"><span class=\"button_label\">\u2713 Save Video</span></a>, <a class=\"cameratag_rerecord_btn cameratag_record\"><span class=\"button_label\">\u25cf Re-record Video</span></a>, <a class=\"cameratag_play_btn cameratag_play\"><span class=\"button_label\">\u25b6 Watch Video Again</span></a>]\n"
       ]
      }
     ],
     "prompt_number": 7
    },
    {
     "cell_type": "code",
     "collapsed": false,
     "input": [
      "for p in body:\n",
      "    url = p['href']\n",
      "    print url"
     ],
     "language": "python",
     "metadata": {},
     "outputs": [
      {
       "ename": "KeyError",
       "evalue": "'href'",
       "output_type": "pyerr",
       "traceback": [
        "\u001b[0;31m---------------------------------------------------------------------------\u001b[0m\n\u001b[0;31mKeyError\u001b[0m                                  Traceback (most recent call last)",
        "\u001b[0;32m<ipython-input-8-c70c6d06cb12>\u001b[0m in \u001b[0;36m<module>\u001b[0;34m()\u001b[0m\n\u001b[1;32m      1\u001b[0m \u001b[0;32mfor\u001b[0m \u001b[0mp\u001b[0m \u001b[0;32min\u001b[0m \u001b[0mbody\u001b[0m\u001b[0;34m:\u001b[0m\u001b[0;34m\u001b[0m\u001b[0m\n\u001b[0;32m----> 2\u001b[0;31m     \u001b[0murl\u001b[0m \u001b[0;34m=\u001b[0m \u001b[0mp\u001b[0m\u001b[0;34m[\u001b[0m\u001b[0;34m'href'\u001b[0m\u001b[0;34m]\u001b[0m\u001b[0;34m\u001b[0m\u001b[0m\n\u001b[0m\u001b[1;32m      3\u001b[0m     \u001b[0;32mprint\u001b[0m \u001b[0murl\u001b[0m\u001b[0;34m\u001b[0m\u001b[0m\n",
        "\u001b[0;32m/Users/Zipfian/anaconda/lib/python2.7/site-packages/bs4/element.pyc\u001b[0m in \u001b[0;36m__getitem__\u001b[0;34m(self, key)\u001b[0m\n\u001b[1;32m    903\u001b[0m         \"\"\"tag[key] returns the value of the 'key' attribute for the tag,\n\u001b[1;32m    904\u001b[0m         and throws an exception if it's not there.\"\"\"\n\u001b[0;32m--> 905\u001b[0;31m         \u001b[0;32mreturn\u001b[0m \u001b[0mself\u001b[0m\u001b[0;34m.\u001b[0m\u001b[0mattrs\u001b[0m\u001b[0;34m[\u001b[0m\u001b[0mkey\u001b[0m\u001b[0;34m]\u001b[0m\u001b[0;34m\u001b[0m\u001b[0m\n\u001b[0m\u001b[1;32m    906\u001b[0m \u001b[0;34m\u001b[0m\u001b[0m\n\u001b[1;32m    907\u001b[0m     \u001b[0;32mdef\u001b[0m \u001b[0m__iter__\u001b[0m\u001b[0;34m(\u001b[0m\u001b[0mself\u001b[0m\u001b[0;34m)\u001b[0m\u001b[0;34m:\u001b[0m\u001b[0;34m\u001b[0m\u001b[0m\n",
        "\u001b[0;31mKeyError\u001b[0m: 'href'"
       ]
      },
      {
       "output_type": "stream",
       "stream": "stdout",
       "text": [
        "http://rap.genius.com/\n",
        "http://rock.genius.com/\n",
        "http://lit.genius.com/\n",
        "http://news.genius.com/\n",
        "http://pop.genius.com/\n",
        "http://r-b.genius.com/\n",
        "http://history.genius.com/\n",
        "http://sports.genius.com/\n",
        "http://screen.genius.com/\n",
        "http://law.genius.com/\n",
        "http://tech.genius.com/\n",
        "http://x.genius.com/\n",
        "http://meta.genius.com/\n",
        "/signup\n",
        "/login\n",
        "http://genius.com/\n",
        "#\n",
        "/new\n",
        "http://genius.com/forums\n",
        "/artists/22/follows\n",
        "http://genius.com/posts/Notes-on-ready-to-die\n",
        "/albums/The-notorious-big/Born-again\n",
        "/albums/The-notorious-big/Duets-the-final-chapter\n",
        "/albums/The-notorious-big/Life-after-death\n",
        "/albums/The-notorious-b-i-g/Life-after-death-french-version\n",
        "/albums/The-notorious-b-i-g/Notorious-soundtrack\n",
        "/albums/The-notorious-big/Ready-to-die\n",
        "/albums/The-notorious-b-i-g/Ready-to-die-hungarian-version\n",
        "http://rap.genius.com/The-notorious-big-juicy-lyrics\n",
        "http://rap.genius.com/The-notorious-big-i-got-a-story-to-tell-lyrics\n",
        "http://rap.genius.com/The-notorious-big-suicidal-thoughts-lyrics\n",
        "http://rap.genius.com/The-notorious-big-big-poppa-lyrics\n",
        "http://rap.genius.com/The-notorious-big-ten-crack-commandments-lyrics\n",
        "http://rap.genius.com/The-notorious-big-hypnotize-lyrics\n",
        "http://rap.genius.com/The-notorious-big-gimme-the-loot-lyrics\n",
        "http://rap.genius.com/Nelly-1000-stacks-lyrics\n",
        "http://rap.genius.com/The-notorious-big-16-bars-lyrics\n",
        "http://rap.genius.com/The-notorious-big-1970-somethin-lyrics\n",
        "http://rap.genius.com/The-notorious-big-1988-freestyle-lyrics\n",
        "http://rap.genius.com/2pac-2pac-and-big-classic-freestyle-lyrics\n",
        "http://rap.genius.com/Red-hot-lover-tone-4-my-peeps-lyrics\n",
        "http://rap.genius.com/Heavy-d-a-buncha-niggas-lyrics\n",
        "http://rap.genius.com/Jay-z-a-dream-lyrics\n",
        "http://rap.genius.com/Diddy-angels-lyrics\n",
        "http://rap.genius.com/The-notorious-big-another-lyrics\n",
        "http://rap.genius.com/The-notorious-big-beef-lyrics\n",
        "http://rap.genius.com/Diddy-been-around-the-world-lyrics\n",
        "http://rap.genius.com/The-notorious-big-big-booty-hoes-lyrics\n",
        "http://rap.genius.com/Dj-bigcold-big-dreams-remix-lyrics\n",
        "http://rap.genius.com/The-notorious-big-biggie-lyrics\n",
        "http://rap.genius.com/The-notorious-big-biggie-smalls-pepsi-freestyle-lyrics\n",
        "http://rap.genius.com/Funkmaster-flex-biggie-tupac-live-freestyle-lyrics\n",
        "http://rap.genius.com/The-notorious-big-big-interlude-lyrics\n",
        "http://rap.genius.com/The-notorious-big-big-poppa-lyrics\n",
        "http://rap.genius.com/The-notorious-big-big-poppa-so-so-def-remix-lyrics\n",
        "/artists/songs?for_artist_page=22&id=The-notorious-big&page=2&pagination=true\n",
        "/artists/songs?for_artist_page=22&id=The-notorious-big&page=3&pagination=true\n",
        "/artists/songs?for_artist_page=22&id=The-notorious-big&page=4&pagination=true\n",
        "/artists/songs?for_artist_page=22&id=The-notorious-big&page=5&pagination=true\n",
        "/artists/songs?for_artist_page=22&id=The-notorious-big&page=6&pagination=true\n",
        "/artists/songs?for_artist_page=22&id=The-notorious-big&page=7&pagination=true\n",
        "/artists/songs?for_artist_page=22&id=The-notorious-big&page=8&pagination=true\n",
        "/artists/songs?for_artist_page=22&id=The-notorious-big&page=9&pagination=true\n",
        "/artists/songs?for_artist_page=22&id=The-notorious-big&page=10&pagination=true\n",
        "/artists/songs?for_artist_page=22&id=The-notorious-big&page=11&pagination=true\n",
        "/artists/songs?for_artist_page=22&id=The-notorious-big&page=12&pagination=true\n",
        "/artists/songs?for_artist_page=22&id=The-notorious-big&page=2&pagination=true\n",
        "/artists\n"
       ]
      }
     ],
     "prompt_number": 8
    },
    {
     "cell_type": "code",
     "collapsed": false,
     "input": [
      "r = requests.get('http://www.ohhla.com/anonymous/chancetr/acid_rap/acidrain.ctr.txt')"
     ],
     "language": "python",
     "metadata": {},
     "outputs": [],
     "prompt_number": 9
    },
    {
     "cell_type": "code",
     "collapsed": false,
     "input": [
      "soup = bs4.BeautifulSoup(r.text, \"html.parser\")"
     ],
     "language": "python",
     "metadata": {},
     "outputs": [],
     "prompt_number": 10
    },
    {
     "cell_type": "code",
     "collapsed": false,
     "input": [
      "body = soup.find_all('div', style=\"float: left; min-width: 560px;\")"
     ],
     "language": "python",
     "metadata": {},
     "outputs": [],
     "prompt_number": 11
    },
    {
     "cell_type": "code",
     "collapsed": false,
     "input": [
      "for div in body:\n",
      "    print str(div.contents)"
     ],
     "language": "python",
     "metadata": {},
     "outputs": [
      {
       "output_type": "stream",
       "stream": "stdout",
       "text": [
        "[u'\\n', <pre>\n",
        "Artist: Chance The Rapper\n",
        "Album:  Acid Rap\n",
        "Song:   Acid Rain\n",
        "Typed by: Cedmaster3K\n",
        "\n",
        "[Intro: Chance The Rapper]\n",
        "Na-na na na-na-nah\n",
        "Na-na-na-na na na na na-nah\n",
        "Na-na-na na na-na-nah\n",
        "Na-na-na-na na na na na-nah (IGH!)\n",
        "... Na-na-na-na na na na na-nah\n",
        "Na-na-na-na na-na-na-na na na na na-nah\n",
        "Na na-na-na-na nah...\n",
        "\n",
        "[Chance The Rapper]\n",
        "Kicked off my shoes, tripped acid in the rain\n",
        "Wore my jacket as a cape, and my umbrella as a cane\n",
        "The richest man rocks the snatch-less necklace\n",
        "Spineless bitches in backless dresses\n",
        "... Wore my feelings on my sleeveless\n",
        "... My weed seedless, my trees leafless\n",
        "I miss my diagonal grilled cheeses\n",
        "And back when Mike Jackson was still Jesus\n",
        "Before I believed in not believin' in\n",
        "Yeah, I inhaled, who believed in me not breathin' in?\n",
        "Cigarette stained smile all covered in sin\n",
        "My big homie died young; just turned older than him\n",
        "I seen it happen, I seen it happen, I see it always\n",
        "He still be screamin', I see his demons in empty hallways\n",
        "... I trip to make the fall shorter\n",
        "... Fall quarter was just a tall order\n",
        "And I'm hungry, I'm just not that thirsty\n",
        "As of late, all my verses seem not so verse-y\n",
        "And all my words just mean controversy\n",
        "Took the team up off my back, like \"That's not your jersey?\"\n",
        "Stressin', pullin' my hair out, hopin' I don't get picked\n",
        "All this medicine in me hopin' I don't get sick\n",
        "Making all of this money hopin' I don't get rich\n",
        "Cause niggas still getting bodied for foams\n",
        "\n",
        "Sometimes the truth don't rhyme\n",
        "Sometime the lies get millions of views\n",
        "Funerals for little girls, is that appealin' to you?\n",
        "From your cubicle desktop, what a beautiful view\n",
        "... I think love is beautiful, too\n",
        "Building forts from broken dams, what a hoover could do\n",
        "For future hoopers dead from Rugers shootin' through the empty alley\n",
        "Could've threw him an alley-oop, helping him do good in school\n",
        "Damn that acid burn when it clean ya\n",
        "... I still miss bein' a senior\n",
        "And performing at, all those open mic events\n",
        "High schools, eyes closed seein' arenas\n",
        "... And I still get jealous of Vic\n",
        "... And Vic's still jealous of me\n",
        "But if you touch my brother\n",
        "All that anti-violence shit goes out the window along with you and the rest of your team\n",
        "... Smokin' cigarettes to look cooler\n",
        "... I only stop by to look through ya\n",
        "... And I'm only gettin' greedier\n",
        "... And I'm still Mr. Youmedia\n",
        "... And I still can't find talent\n",
        "And I'm still choosin' classmates that wouldn't fuck\n",
        "Mom still thinks I should go back to school\n",
        "And Justin still thinks I'm good enough\n",
        "And Mama Jan still don't take her meds\n",
        "And I still be askin' God to show his face\n",
        "And I still be askin' God to show his face...\n",
        "\n",
        "[Chance The Rapper - singing]\n",
        "I am a new man, I am sanctified, ohhh\n",
        "Ohh I am holy, I have been baptized\n",
        "I have been born again, I am the White Light\n",
        "Rain, rain don't go away...\n",
        "Bow wow wow wow wow wow {*7X to fade*}\n",
        "IGH!</pre>, u'\\n']\n"
       ]
      }
     ],
     "prompt_number": 22
    },
    {
     "cell_type": "code",
     "collapsed": false,
     "input": [
      "for div in body:\n",
      "    print div.contents"
     ],
     "language": "python",
     "metadata": {},
     "outputs": [
      {
       "output_type": "stream",
       "stream": "stdout",
       "text": [
        "[u'\\n', <pre>\n",
        "Artist: Chance The Rapper\n",
        "Album:  Acid Rap\n",
        "Song:   Acid Rain\n",
        "Typed by: Cedmaster3K\n",
        "\n",
        "[Intro: Chance The Rapper]\n",
        "Na-na na na-na-nah\n",
        "Na-na-na-na na na na na-nah\n",
        "Na-na-na na na-na-nah\n",
        "Na-na-na-na na na na na-nah (IGH!)\n",
        "... Na-na-na-na na na na na-nah\n",
        "Na-na-na-na na-na-na-na na na na na-nah\n",
        "Na na-na-na-na nah...\n",
        "\n",
        "[Chance The Rapper]\n",
        "Kicked off my shoes, tripped acid in the rain\n",
        "Wore my jacket as a cape, and my umbrella as a cane\n",
        "The richest man rocks the snatch-less necklace\n",
        "Spineless bitches in backless dresses\n",
        "... Wore my feelings on my sleeveless\n",
        "... My weed seedless, my trees leafless\n",
        "I miss my diagonal grilled cheeses\n",
        "And back when Mike Jackson was still Jesus\n",
        "Before I believed in not believin' in\n",
        "Yeah, I inhaled, who believed in me not breathin' in?\n",
        "Cigarette stained smile all covered in sin\n",
        "My big homie died young; just turned older than him\n",
        "I seen it happen, I seen it happen, I see it always\n",
        "He still be screamin', I see his demons in empty hallways\n",
        "... I trip to make the fall shorter\n",
        "... Fall quarter was just a tall order\n",
        "And I'm hungry, I'm just not that thirsty\n",
        "As of late, all my verses seem not so verse-y\n",
        "And all my words just mean controversy\n",
        "Took the team up off my back, like \"That's not your jersey?\"\n",
        "Stressin', pullin' my hair out, hopin' I don't get picked\n",
        "All this medicine in me hopin' I don't get sick\n",
        "Making all of this money hopin' I don't get rich\n",
        "Cause niggas still getting bodied for foams\n",
        "\n",
        "Sometimes the truth don't rhyme\n",
        "Sometime the lies get millions of views\n",
        "Funerals for little girls, is that appealin' to you?\n",
        "From your cubicle desktop, what a beautiful view\n",
        "... I think love is beautiful, too\n",
        "Building forts from broken dams, what a hoover could do\n",
        "For future hoopers dead from Rugers shootin' through the empty alley\n",
        "Could've threw him an alley-oop, helping him do good in school\n",
        "Damn that acid burn when it clean ya\n",
        "... I still miss bein' a senior\n",
        "And performing at, all those open mic events\n",
        "High schools, eyes closed seein' arenas\n",
        "... And I still get jealous of Vic\n",
        "... And Vic's still jealous of me\n",
        "But if you touch my brother\n",
        "All that anti-violence shit goes out the window along with you and the rest of your team\n",
        "... Smokin' cigarettes to look cooler\n",
        "... I only stop by to look through ya\n",
        "... And I'm only gettin' greedier\n",
        "... And I'm still Mr. Youmedia\n",
        "... And I still can't find talent\n",
        "And I'm still choosin' classmates that wouldn't fuck\n",
        "Mom still thinks I should go back to school\n",
        "And Justin still thinks I'm good enough\n",
        "And Mama Jan still don't take her meds\n",
        "And I still be askin' God to show his face\n",
        "And I still be askin' God to show his face...\n",
        "\n",
        "[Chance The Rapper - singing]\n",
        "I am a new man, I am sanctified, ohhh\n",
        "Ohh I am holy, I have been baptized\n",
        "I have been born again, I am the White Light\n",
        "Rain, rain don't go away...\n",
        "Bow wow wow wow wow wow {*7X to fade*}\n",
        "IGH!</pre>, u'\\n']\n"
       ]
      }
     ],
     "prompt_number": 13
    },
    {
     "cell_type": "code",
     "collapsed": false,
     "input": [
      "acid = ls.pull_lyrics('http://www.ohhla.com/anonymous/chancetr/acid_rap/acidrain.ctr.txt')"
     ],
     "language": "python",
     "metadata": {},
     "outputs": [],
     "prompt_number": 75
    },
    {
     "cell_type": "code",
     "collapsed": false,
     "input": [
      "def clean_ohhla(line): \n",
      "    if len(line) == 0:\n",
      "        return ' '\n",
      "\n",
      "    elif (line.split()[0] == 'Artist:') or line.split()[0] == 'Album:' or (line.split()[0] == 'Song:') or (line.split()[0] == 'Typed') or (line[0] == '['):\n",
      "        return ''\n",
      "    else:\n",
      "        return line\n"
     ],
     "language": "python",
     "metadata": {},
     "outputs": [],
     "prompt_number": 39
    },
    {
     "cell_type": "code",
     "collapsed": false,
     "input": [
      "acid"
     ],
     "language": "python",
     "metadata": {},
     "outputs": [
      {
       "metadata": {},
       "output_type": "pyout",
       "prompt_number": 76,
       "text": [
        "u'\\n\\nArtist: Chance The Rapper\\nAlbum:  Acid Rap\\nSong:   Acid Rain\\nTyped by: Cedmaster3K\\n\\n[Intro: Chance The Rapper]\\nNa-na na na-na-nah\\nNa-na-na-na na na na na-nah\\nNa-na-na na na-na-nah\\nNa-na-na-na na na na na-nah (IGH!)\\n... Na-na-na-na na na na na-nah\\nNa-na-na-na na-na-na-na na na na na-nah\\nNa na-na-na-na nah...\\n\\n[Chance The Rapper]\\nKicked off my shoes, tripped acid in the rain\\nWore my jacket as a cape, and my umbrella as a cane\\nThe richest man rocks the snatch-less necklace\\nSpineless bitches in backless dresses\\n... Wore my feelings on my sleeveless\\n... My weed seedless, my trees leafless\\nI miss my diagonal grilled cheeses\\nAnd back when Mike Jackson was still Jesus\\nBefore I believed in not believin\\' in\\nYeah, I inhaled, who believed in me not breathin\\' in?\\nCigarette stained smile all covered in sin\\nMy big homie died young; just turned older than him\\nI seen it happen, I seen it happen, I see it always\\nHe still be screamin\\', I see his demons in empty hallways\\n... I trip to make the fall shorter\\n... Fall quarter was just a tall order\\nAnd I\\'m hungry, I\\'m just not that thirsty\\nAs of late, all my verses seem not so verse-y\\nAnd all my words just mean controversy\\nTook the team up off my back, like \"That\\'s not your jersey?\"\\nStressin\\', pullin\\' my hair out, hopin\\' I don\\'t get picked\\nAll this medicine in me hopin\\' I don\\'t get sick\\nMaking all of this money hopin\\' I don\\'t get rich\\nCause niggas still getting bodied for foams\\n\\nSometimes the truth don\\'t rhyme\\nSometime the lies get millions of views\\nFunerals for little girls, is that appealin\\' to you?\\nFrom your cubicle desktop, what a beautiful view\\n... I think love is beautiful, too\\nBuilding forts from broken dams, what a hoover could do\\nFor future hoopers dead from Rugers shootin\\' through the empty alley\\nCould\\'ve threw him an alley-oop, helping him do good in school\\nDamn that acid burn when it clean ya\\n... I still miss bein\\' a senior\\nAnd performing at, all those open mic events\\nHigh schools, eyes closed seein\\' arenas\\n... And I still get jealous of Vic\\n... And Vic\\'s still jealous of me\\nBut if you touch my brother\\nAll that anti-violence shit goes out the window along with you and the rest of your team\\n... Smokin\\' cigarettes to look cooler\\n... I only stop by to look through ya\\n... And I\\'m only gettin\\' greedier\\n... And I\\'m still Mr. Youmedia\\n... And I still can\\'t find talent\\nAnd I\\'m still choosin\\' classmates that wouldn\\'t fuck\\nMom still thinks I should go back to school\\nAnd Justin still thinks I\\'m good enough\\nAnd Mama Jan still don\\'t take her meds\\nAnd I still be askin\\' God to show his face\\nAnd I still be askin\\' God to show his face...\\n\\n[Chance The Rapper - singing]\\nI am a new man, I am sanctified, ohhh\\nOhh I am holy, I have been baptized\\nI have been born again, I am the White Light\\nRain, rain don\\'t go away...\\nBow wow wow wow wow wow {*7X to fade*}\\nIGH!\\n'"
       ]
      }
     ],
     "prompt_number": 76
    },
    {
     "cell_type": "code",
     "collapsed": false,
     "input": [],
     "language": "python",
     "metadata": {},
     "outputs": []
    },
    {
     "cell_type": "code",
     "collapsed": false,
     "input": [
      "acid.split('\\n')[2].split()"
     ],
     "language": "python",
     "metadata": {},
     "outputs": [
      {
       "metadata": {},
       "output_type": "pyout",
       "prompt_number": 40,
       "text": [
        "[u'Artist:', u'Chance', u'The', u'Rapper']"
       ]
      }
     ],
     "prompt_number": 40
    },
    {
     "cell_type": "code",
     "collapsed": false,
     "input": [
      "[clean_ohhla(line) for line in acid.split('\\n')]\n",
      "    "
     ],
     "language": "python",
     "metadata": {},
     "outputs": [
      {
       "metadata": {},
       "output_type": "pyout",
       "prompt_number": 41,
       "text": [
        "[' ',\n",
        " ' ',\n",
        " '',\n",
        " '',\n",
        " '',\n",
        " '',\n",
        " ' ',\n",
        " '',\n",
        " u'Na-na na na-na-nah',\n",
        " u'Na-na-na-na na na na na-nah',\n",
        " u'Na-na-na na na-na-nah',\n",
        " u'Na-na-na-na na na na na-nah (IGH!)',\n",
        " u'... Na-na-na-na na na na na-nah',\n",
        " u'Na-na-na-na na-na-na-na na na na na-nah',\n",
        " u'Na na-na-na-na nah...',\n",
        " ' ',\n",
        " '',\n",
        " u'Kicked off my shoes, tripped acid in the rain',\n",
        " u'Wore my jacket as a cape, and my umbrella as a cane',\n",
        " u'The richest man rocks the snatch-less necklace',\n",
        " u'Spineless bitches in backless dresses',\n",
        " u'... Wore my feelings on my sleeveless',\n",
        " u'... My weed seedless, my trees leafless',\n",
        " u'I miss my diagonal grilled cheeses',\n",
        " u'And back when Mike Jackson was still Jesus',\n",
        " u\"Before I believed in not believin' in\",\n",
        " u\"Yeah, I inhaled, who believed in me not breathin' in?\",\n",
        " u'Cigarette stained smile all covered in sin',\n",
        " u'My big homie died young; just turned older than him',\n",
        " u'I seen it happen, I seen it happen, I see it always',\n",
        " u\"He still be screamin', I see his demons in empty hallways\",\n",
        " u'... I trip to make the fall shorter',\n",
        " u'... Fall quarter was just a tall order',\n",
        " u\"And I'm hungry, I'm just not that thirsty\",\n",
        " u'As of late, all my verses seem not so verse-y',\n",
        " u'And all my words just mean controversy',\n",
        " u'Took the team up off my back, like \"That\\'s not your jersey?\"',\n",
        " u\"Stressin', pullin' my hair out, hopin' I don't get picked\",\n",
        " u\"All this medicine in me hopin' I don't get sick\",\n",
        " u\"Making all of this money hopin' I don't get rich\",\n",
        " u'Cause niggas still getting bodied for foams',\n",
        " ' ',\n",
        " u\"Sometimes the truth don't rhyme\",\n",
        " u'Sometime the lies get millions of views',\n",
        " u\"Funerals for little girls, is that appealin' to you?\",\n",
        " u'From your cubicle desktop, what a beautiful view',\n",
        " u'... I think love is beautiful, too',\n",
        " u'Building forts from broken dams, what a hoover could do',\n",
        " u\"For future hoopers dead from Rugers shootin' through the empty alley\",\n",
        " u\"Could've threw him an alley-oop, helping him do good in school\",\n",
        " u'Damn that acid burn when it clean ya',\n",
        " u\"... I still miss bein' a senior\",\n",
        " u'And performing at, all those open mic events',\n",
        " u\"High schools, eyes closed seein' arenas\",\n",
        " u'... And I still get jealous of Vic',\n",
        " u\"... And Vic's still jealous of me\",\n",
        " u'But if you touch my brother',\n",
        " u'All that anti-violence shit goes out the window along with you and the rest of your team',\n",
        " u\"... Smokin' cigarettes to look cooler\",\n",
        " u'... I only stop by to look through ya',\n",
        " u\"... And I'm only gettin' greedier\",\n",
        " u\"... And I'm still Mr. Youmedia\",\n",
        " u\"... And I still can't find talent\",\n",
        " u\"And I'm still choosin' classmates that wouldn't fuck\",\n",
        " u'Mom still thinks I should go back to school',\n",
        " u\"And Justin still thinks I'm good enough\",\n",
        " u\"And Mama Jan still don't take her meds\",\n",
        " u\"And I still be askin' God to show his face\",\n",
        " u\"And I still be askin' God to show his face...\",\n",
        " ' ',\n",
        " '',\n",
        " u'I am a new man, I am sanctified, ohhh',\n",
        " u'Ohh I am holy, I have been baptized',\n",
        " u'I have been born again, I am the White Light',\n",
        " u\"Rain, rain don't go away...\",\n",
        " u'Bow wow wow wow wow wow {*7X to fade*}',\n",
        " u'IGH!',\n",
        " ' ']"
       ]
      }
     ],
     "prompt_number": 41
    },
    {
     "cell_type": "code",
     "collapsed": false,
     "input": [
      "url = 'http://www.ohhla.com/anonymous/chancetr/acid_rap/'\n",
      "stem = \"/\".join(url.split('/')[:-1])\n",
      "r_url = requests.get(url)"
     ],
     "language": "python",
     "metadata": {},
     "outputs": [],
     "prompt_number": 88
    },
    {
     "cell_type": "code",
     "collapsed": false,
     "input": [
      "stem"
     ],
     "language": "python",
     "metadata": {},
     "outputs": [
      {
       "metadata": {},
       "output_type": "pyout",
       "prompt_number": 89,
       "text": [
        "'http://www.ohhla.com/anonymous/chancetr/acid_rap'"
       ]
      }
     ],
     "prompt_number": 89
    },
    {
     "cell_type": "code",
     "collapsed": false,
     "input": [
      "soup_url = bs4.BeautifulSoup(r_url.text)"
     ],
     "language": "python",
     "metadata": {},
     "outputs": [],
     "prompt_number": 65
    },
    {
     "cell_type": "code",
     "collapsed": false,
     "input": [
      "for url in soup_url.find_all('a'):\n",
      "    print stem + '/' + url['href']"
     ],
     "language": "python",
     "metadata": {},
     "outputs": [
      {
       "output_type": "stream",
       "stream": "stdout",
       "text": [
        "http://www.ohhla.com/anonymous/chancetr/acid_rap//anonymous/chancetr/\n",
        "http://www.ohhla.com/anonymous/chancetr/acid_rap/acidrain.ctr.txt\n",
        "http://www.ohhla.com/anonymous/chancetr/acid_rap/chainsmo.ctr.txt\n",
        "http://www.ohhla.com/anonymous/chancetr/acid_rap/cocoabut.ctr.txt\n",
        "http://www.ohhla.com/anonymous/chancetr/acid_rap/ev_good.ctr.txt\n",
        "http://www.ohhla.com/anonymous/chancetr/acid_rap/everybdy.ctr.txt\n",
        "http://www.ohhla.com/anonymous/chancetr/acid_rap/fav_song.ctr.txt\n",
        "http://www.ohhla.com/anonymous/chancetr/acid_rap/good_ass.ctr.txt\n",
        "http://www.ohhla.com/anonymous/chancetr/acid_rap/interlde.ctr.txt\n",
        "http://www.ohhla.com/anonymous/chancetr/acid_rap/juice.ctr.txt\n",
        "http://www.ohhla.com/anonymous/chancetr/acid_rap/lost.ctr.txt\n",
        "http://www.ohhla.com/anonymous/chancetr/acid_rap/nana.ctr.txt\n",
        "http://www.ohhla.com/anonymous/chancetr/acid_rap/paranoia.ctr.txt\n",
        "http://www.ohhla.com/anonymous/chancetr/acid_rap/pushaman.ctr.txt\n",
        "http://www.ohhla.com/anonymous/chancetr/acid_rap/sm_again.ctr.txt\n"
       ]
      }
     ],
     "prompt_number": 93
    },
    {
     "cell_type": "code",
     "collapsed": false,
     "input": [
      "\"/\".join(url.split('/')[:-2])"
     ],
     "language": "python",
     "metadata": {},
     "outputs": [
      {
       "metadata": {},
       "output_type": "pyout",
       "prompt_number": 62,
       "text": [
        "'http://www.ohhla.com/anonymous/chancetr'"
       ]
      }
     ],
     "prompt_number": 62
    },
    {
     "cell_type": "code",
     "collapsed": false,
     "input": [
      "ls.get_urls_ohhla('http://www.ohhla.com/anonymous/chancetr/acid_rap/')"
     ],
     "language": "python",
     "metadata": {},
     "outputs": [
      {
       "metadata": {},
       "output_type": "pyout",
       "prompt_number": 84,
       "text": [
        "['http://www.ohhla.com/anonymous/chancetr//anonymous/chancetr/',\n",
        " 'http://www.ohhla.com/anonymous/chancetr/acidrain.ctr.txt',\n",
        " 'http://www.ohhla.com/anonymous/chancetr/chainsmo.ctr.txt',\n",
        " 'http://www.ohhla.com/anonymous/chancetr/cocoabut.ctr.txt',\n",
        " 'http://www.ohhla.com/anonymous/chancetr/ev_good.ctr.txt',\n",
        " 'http://www.ohhla.com/anonymous/chancetr/everybdy.ctr.txt',\n",
        " 'http://www.ohhla.com/anonymous/chancetr/fav_song.ctr.txt',\n",
        " 'http://www.ohhla.com/anonymous/chancetr/good_ass.ctr.txt',\n",
        " 'http://www.ohhla.com/anonymous/chancetr/interlde.ctr.txt',\n",
        " 'http://www.ohhla.com/anonymous/chancetr/juice.ctr.txt',\n",
        " 'http://www.ohhla.com/anonymous/chancetr/lost.ctr.txt',\n",
        " 'http://www.ohhla.com/anonymous/chancetr/nana.ctr.txt',\n",
        " 'http://www.ohhla.com/anonymous/chancetr/paranoia.ctr.txt',\n",
        " 'http://www.ohhla.com/anonymous/chancetr/pushaman.ctr.txt',\n",
        " 'http://www.ohhla.com/anonymous/chancetr/sm_again.ctr.txt']"
       ]
      }
     ],
     "prompt_number": 84
    },
    {
     "cell_type": "code",
     "collapsed": false,
     "input": [
      "text = []\n",
      "for url in ls.get_urls_ohhla('http://www.ohhla.com/anonymous/chancetr/acid_rap/'):\n",
      "    text.append(ls.pull_lyrics(url))"
     ],
     "language": "python",
     "metadata": {},
     "outputs": [],
     "prompt_number": 90
    },
    {
     "cell_type": "code",
     "collapsed": false,
     "input": [
      "text"
     ],
     "language": "python",
     "metadata": {},
     "outputs": [
      {
       "metadata": {},
       "output_type": "pyout",
       "prompt_number": 91,
       "text": [
        "['',\n",
        " u'\\n\\nArtist: Chance The Rapper\\nAlbum:  Acid Rap\\nSong:   Acid Rain\\nTyped by: Cedmaster3K\\n\\n[Intro: Chance The Rapper]\\nNa-na na na-na-nah\\nNa-na-na-na na na na na-nah\\nNa-na-na na na-na-nah\\nNa-na-na-na na na na na-nah (IGH!)\\n... Na-na-na-na na na na na-nah\\nNa-na-na-na na-na-na-na na na na na-nah\\nNa na-na-na-na nah...\\n\\n[Chance The Rapper]\\nKicked off my shoes, tripped acid in the rain\\nWore my jacket as a cape, and my umbrella as a cane\\nThe richest man rocks the snatch-less necklace\\nSpineless bitches in backless dresses\\n... Wore my feelings on my sleeveless\\n... My weed seedless, my trees leafless\\nI miss my diagonal grilled cheeses\\nAnd back when Mike Jackson was still Jesus\\nBefore I believed in not believin\\' in\\nYeah, I inhaled, who believed in me not breathin\\' in?\\nCigarette stained smile all covered in sin\\nMy big homie died young; just turned older than him\\nI seen it happen, I seen it happen, I see it always\\nHe still be screamin\\', I see his demons in empty hallways\\n... I trip to make the fall shorter\\n... Fall quarter was just a tall order\\nAnd I\\'m hungry, I\\'m just not that thirsty\\nAs of late, all my verses seem not so verse-y\\nAnd all my words just mean controversy\\nTook the team up off my back, like \"That\\'s not your jersey?\"\\nStressin\\', pullin\\' my hair out, hopin\\' I don\\'t get picked\\nAll this medicine in me hopin\\' I don\\'t get sick\\nMaking all of this money hopin\\' I don\\'t get rich\\nCause niggas still getting bodied for foams\\n\\nSometimes the truth don\\'t rhyme\\nSometime the lies get millions of views\\nFunerals for little girls, is that appealin\\' to you?\\nFrom your cubicle desktop, what a beautiful view\\n... I think love is beautiful, too\\nBuilding forts from broken dams, what a hoover could do\\nFor future hoopers dead from Rugers shootin\\' through the empty alley\\nCould\\'ve threw him an alley-oop, helping him do good in school\\nDamn that acid burn when it clean ya\\n... I still miss bein\\' a senior\\nAnd performing at, all those open mic events\\nHigh schools, eyes closed seein\\' arenas\\n... And I still get jealous of Vic\\n... And Vic\\'s still jealous of me\\nBut if you touch my brother\\nAll that anti-violence shit goes out the window along with you and the rest of your team\\n... Smokin\\' cigarettes to look cooler\\n... I only stop by to look through ya\\n... And I\\'m only gettin\\' greedier\\n... And I\\'m still Mr. Youmedia\\n... And I still can\\'t find talent\\nAnd I\\'m still choosin\\' classmates that wouldn\\'t fuck\\nMom still thinks I should go back to school\\nAnd Justin still thinks I\\'m good enough\\nAnd Mama Jan still don\\'t take her meds\\nAnd I still be askin\\' God to show his face\\nAnd I still be askin\\' God to show his face...\\n\\n[Chance The Rapper - singing]\\nI am a new man, I am sanctified, ohhh\\nOhh I am holy, I have been baptized\\nI have been born again, I am the White Light\\nRain, rain don\\'t go away...\\nBow wow wow wow wow wow {*7X to fade*}\\nIGH!\\n',\n",
        " u'\\n\\nArtist: Chance The Rapper\\nAlbum:  Acid Rap\\nSong:   Chain Smoker\\nTyped by: Cedmaster3K\\n\\n[Intro: Chance The Rapper]\\nIf this is my last shh- my last shit\\nUhh, it definitely be mad important\\nStill a, chain smokin\\', name droppin\\' (ey man, this sound like a Prince song)\\nGood lookin\\', muh\\'fuckin\\', motha- shut your mouth!\\n\\n[Chorus: Chance The Rapper]\\nStill a chain smokin\\', name droppin\\'\\nGood lookin\\', muh\\'fuckin\\', motha - shut yo\\' mouth!\\nBrain broken, Frank Ocean listenin\\', stain hittin\\'\\nSatin woodgrain grippin\\', paint drippin\\', motha - shut yo\\' mouth!\\n\\n[Chance The Rapper]\\nSomebody pray for the God, oh Lord, I wonder what Michael\\'s on\\nSon jammin\\' to his shit, rappin\\' trappin\\' trippin\\' \\'cid and sniffin\\' glue and chewin\\' Vicodin\\nShoulda died yellin\\' \"YOLO was a lie\" and you a liar, wonder why you wanna die so young\\nYou and I look just alike and I\\'m afraid that this one right here, might be last time that I write a song\\nLot of niggas wanna go out with a bang but I ain\\'t tryna go out at all\\nSo I ain\\xe2\\x80\\x99t tryna go out at all, got a lot of ideas still to throw out the door\\nLast chance joint gotta be a dance joint from an introspective drugged out standpoint\\nThrow bands joint, wanna hold hands joint, old school for my own old man joint\\n\\n[Chorus]\\n\\n[Interlude: Chance The Rapper]\\nThis part right here, right now, right here, this part my shit\\nI play this so loud in the car I forget to park my whip\\nI lean back, then spark my shit, I turn up, I talk my shit\\nHope you love all of my shit, I hope you love all of my shit (IGH!)\\n\\n[Chance The Rapper]\\nWhy toss my filter, when she saved my life?\\nThe same shit that kills us, always taste so right\\nThat\\'s why I pray to the dear Lord, God know who he be\\nTruth be told he juiced me, introduced me to the lucy leaf\\nOhh ohh ohh, I seen the light, I lost my lighter\\nBIC flick, kick the habit and the bucket, fuck your supplier\\nLies, Levis on fire, flyer on the wall I\\'m brighter\\nIn the darkness of the night; in the sky I get higher, higher, okay\\n\\n[Chorus] + [Interlude]\\n\\n[Chorus]\\n\\n[Chance The Rapper]\\nIGH!\\n',\n",
        " u'\\n\\nArtist: Chance The Rapper f/ Twista, Vic Mensa\\nAlbum:  Acid Rap\\nSong:   Cocoa Butter Kisses\\nTyped by: Cedmaster3K\\n\\n[Chance The Rapper]\\nNa-na-na-na-na, na-na-na-na-na - IGH!\\nNa-na-na-na-na, na-na-na-na-na - IGH!\\n\\n[Chorus One 2X: Chance the Rapper]\\nCigarettes on cigarettes, my mama think I stank\\nI got burn holes in my hoodies, all my homies think it\\'s dank\\nI miss my cocoa butter kisses...\\nI miss my cocoa butter kisses...\\n\\n[Chance The Rapper]\\nOkie dokie, alky, keep it lowkey/Loki like Thor lil bro\\nor he\\'ll go blow the loudy, saudy of sour Saudi\\nWiley up off peyote, wildin\\'/Wile E. like that coyote\\nIf I sip any Henny, my belly just might be outtie\\nPull up inside a huggy, Starsky & Hutch a dougie\\nI just opened up the pack, in an hour I\\'ll ash my lucky\\nTonight she just yellin\\' \"fuck me\", two weeks she\\'ll be yellin\\' \"fuck me\"\\nUsed to like orange cassette tapes with Timmy, Tommy, and Chuckie\\nAnd Chuck E. Cheese\\'s pizzas, Jesus pieces, sing Jesus love me\\nPut Visine inside my eyes so my grandma would fuckin\\' hug me\\nOh generation above me, I know you still remember me\\nMy afro look just like daddy\\'s, y\\'all taught me how to go huntin\\'\\nBLAM~!!\\n\\n[Chorus One]\\n\\n[Vic Mensa]\\nInnanet... Innanet\\nI will, smoke a little something but I don\\'t inhale\\nEverywhere that I go, everywhere they be askin\\' \"how\\'s it goin\\'?\" Say the goings, well\\nGo figure, Victor\\'s light skinned, Jesus got me feeling like Colin Powell\\nAll praise to the God; God knows he\\'s a pro, he\\'s a pro like COIN-TEL\\nCheck, check mate, check me take me to the bedroom, let you know me well\\nI mean normally, you see Norma Jean wouldn\\'t kick it with Farmer Phil\\nBut these kids these days, they get so high, burn trees, smoke chlorophyll\\n\\'til they can\\'t feel shit, shit-faced, faced it, 15 hits on this L\\nElevated, train, and the craziest thang got me feeling like Lauryn Hill, +Miseducated+, my dick delegated\\nRap Bill Bellamy, they said I shoulda never made it, probably shoulda been dead or in jail\\nDeadbeat dad, enough of that jazz, asshole, absynthe up in that glass\\n+Are We There Yet?+ Ice Cubes in a bong; rip, brain dead, take a tug and then pass\\nI think we all addicted, yeah...\\nI think we all addicted, really though...\\nI think we all addicted, yup...\\nI think we all addicted\\n\\n[Chorus Two: Vic Mensa]\\nCigarettes on cigarettes, my momma think I stank\\nI got burn holes in my memories, my homies think it\\'s dank\\nI miss my cocoa butter kisses...\\nI think we all addicted...\\n\\n[Chorus One] - 1X w/ Vic Mensa singing along\\n\\n[Twista]\\nTwista~!\\nI could make a flow, pitter patter with a patter pitter - juicy; used to be in a jalabiya and a kufi\\nTrying hard not to be addicted to a groupie, I ended up on an album cover in a Coogi\\nYou see, I be still a God but a goofy; you be, flowin\\' about drugs and a Uzi\\nThat\\'s the new principle, sometimes I\\'mma be about some hoes, sometimes I\\'mma wanna +Make A Movie+\\nAnd when it come to rapping fast, I\\'m the Higgs Boson (yeah); and though my style freakish\\nI could still break your body down to five pieces like I did Voltron (yeah) cause I\\'m addicted to the craft and I be off of OG\\nKnow me, I\\'m the Obi-Wan Kenobi of the dope see (what) never scared of mean spirits, methamphetamine lyrics\\nCooler like I\\'m offa codeine, low key (haha) don\\'t, be, so, judg-ment-al\\nEven though I\\'m reminiscing I f I don\\'t know what I (what) miss is, I\\'ma end up figuring out that it\\'s home\\nAnd my mother and my grandmother cocoa butter (what) kisses, this is just a testament to the ones that raised me\\nThe ones that I praise and I\\'m thankin\\' (yes); I need em but the chronic all up in my clothes\\nAnd I wanna get a hug, and I can\\'t cause I\\'m stankin\\' (no) never too old for a spanking - IGH!\\n\\n[Chorus Two]\\n\\n[Chorus One] w/ Vic Mensa singing along the second time\\n',\n",
        " u'\\n\\nArtist: Chance The Rapper\\nAlbum:  Acid Rap\\nSong:   Everything\\'s Good (Good Ass Outro)\\nTyped by: Cedmaster3K\\n\\n[Intro: Chance\\'s father] + (Chance)\\nWell I should have you hooked up next week\\n(It\\'s all good or whatever, I can, I can wait \\'til my birthday. I uh-)\\nNo, no, no, no. I told ya, I know you need it now, so next week I promise you I\\'ll have you hooked up, okay?\\n(Uh, alright. I just wanted to say thank you, for uh, for everything. For the, the computer and, the T-shirts, and uh, all the other stuff)\\nYou know, Chance. Let me tell you something.\\nYou know, I could never be more proud of anything in my life, you know, than I am of you and what you\\'ve done.\\nChance, you have done, remarkable and wondrous things, so you don\\'t have to tell me thank you for anything.\\nI\\'m supposed to do this, that stuff for you anyway, and ya know, just keep doing what you\\'re doing.\\nI am very, very proud of you. Just keep doing what you\\'re doing, ok?\\n(Thank you, love you) Alright, son. Love you too, take care\\n(Aight, bye bye)\\n\\n[Chance The Rapper]\\nThanks for comin\\' guys...\\n\\n\\'Member sittin\\' in class the first time listenin\\' to Dillaaaa\\nEverything\\'s good...\\nRubbin\\' on yo chin, sippin Gin, Margiela brand chinchillaaaa\\nEverything\\'s good...\\nMy manager backpack packed with packs of cigarilloooos\\nand some fruit snacks, and some killer\\nPhone numbers on speed dial call them save monkey guerillaaaas\\nEverything\\'s good...\\nI ain\\'t really that good at goodbyes, I ain\\'t really that bad at leaving\\nI ain\\'t really always been a good guy, I used to be thirsty thievin\\'\\nRunnin through purses even persons leave em hurtin\\' bleedin\\nI ain\\'t really help the helpless, I used to be worse than worthless\\nNow I\\'m worth hooks and verses, I\\'m good like books in churches\\nHarold\\'s and hooks and churches, everything\\'s good...\\nSee my name when you google search it, use a card when I make a purchase\\nEverything\\'s good...\\nBut I knew it was fly when I was just a caterpillaaaar\\nThat I\\'d make it even if I never make a millaaaa\\nWhen I meet my maker he gon\\' make sure that we chilliiiin\\'\\nAnd everything\\'s good...\\nI ain\\'t really that good at goodnight, I ain\\'t really that bad at sleepin\\nWith bad bitches, put them aside, I used to be thirsty creepin\\'\\nNow I\\'m out workin\\' evenings, birthdays, even Tuesdays, Wednesdays, Thursdays, weekends\\nrehearsin\\' verses, murderin\\' merch and events\\nDamn it feel good to be a gangsta and it feel good for me to thank you\\nPut money back in your bank account...\\nOff of songs I barely could think up cause a lot of songs niggas gon\\' make up\\nMake sense, but they never gon\\' make a sound...\\nI\\'m better than I was the last tiiiiime -- crescendo\\nThanks Justin, lendin\\' them pencils\\nMr. Menzies, Mensa, Chris Minto, the time I beat Chris on Nintendo\\nNa-na-na, hey hey, +Good Intro+\\nRemember jacket shoppin\\' after listening to Thrillerrrrr...\\nRemember the first time you heard this dude and thought damn that\\'s that niggaaaaa, haha\\nEverything\\'s good...\\n\\nNa-na-na-na-na-na-nah\\nNa-na-na-na-na-na-nah, na-na-na-na-na-na-nah\\nNa-na-na-na-na-na-nah, na-na-na-na-na-na-nah\\nNa-na - IGH! IGH! IGH! IGH!\\nNa-na-na-na-na-na-nah, na-na\\nI\\'m gonna be, Iiiii\\'m goooonna be...\\n\\n{*trumpet + drum solo plays until 3:42, followed by 10 second silence*}\\n\\n[Chance The Rapper]\\nIGH! Yep {*3X*}\\nIGH! IGH! IGH! IGH! IGH!\\nYep, yep, yep, yep\\nYep, yep.. {*high-pitched*} juke, juke, juke, juke\\nJuke, juke, juke, juke, juke, juke, juke, juke\\nJuke! Juke! Juke, juke, juke, juke\\nJuke, juke, juke, juke, juke, juke, juke, juke\\nJuke! Juke! Juke, juke, juke, juke (bang bang bang, skeet skeet skeet)\\nJuke, juke, juke, juke, juke, juke, juke, juke (bang bang bang, skeet skeet skeet; bang bang, bang bang)\\nJuke! Juke! Juke, juke, juke, juke (bang bang bang, skeet skeet skeet; bang bang bang, skeet skeet skeet)\\nJuke, juke, juke, juke, juke, juke, juke, juke (bang bang bang, skeet skeet skeet)\\nJuke! Juke! Juke, juke, juke, juke (bang bang bang, skeet skeet skeet)\\nJuke, juke, juke, juke, juke, juke, juke, juke (bang bang, bang bang, bang bang, skeet skeet skeet)\\nJuke! Juke! (bang bang bang, skeet skeet skeet)\\n(Bang bang bang skeet skeet skeet; bang bang, bang bang)\\n(Bang bang, bang bang)\\n\\n[Outro: sample from \"Good Ass Intro\"]\\n\"Ohh-ohh-ohh-ohh, ohh-ohh-ohh-ohh\\nOhh-ohh-ohh-ohh, ohh-ohh-ohh-ohh\\nI\\'m good...\"\\n',\n",
        " u'\\n\\nArtist: Chance The Rapper f/ BJ the Chicago Kid, Saba\\nAlbum:  Acid Rap\\nSong:   Everybody\\'s Something\\nTyped by: Cedmaster3K\\n\\n[Intro: sample of Slum Village\\'s \"Fall In Love\"] + (Chance)\\n\"Ladies lovin\\' my music is like some sex shit\\n\"Niggas tryin\\' to grip up my mic like it\\'s a dick\" (on the mic like it\\'s a dick)\\n\"Run around the corner to pick up the new shit\" (the, the shit)\\n\"Toss this in the deck so niggas can catch rep\" (Brook!)\\n\"Ladies lovin\\' my music is like some sex shit\" (gyeah)\\n\"Niggas tryin\\' to grip up my mic like it\\'s a dick\" (na-na-na-na)\\n\"Run around the corner to pick up the new shit\" (na-na-na-na-na-na-na-na-na)\\n\"Toss this in the deck so niggas can catch rep\" (na-na-na-na-na-na-oohhhh - IGH!)\\n\\n[Chance The Rapper]\\nWhat\\'s good, good? And what\\'s good, evil?\\nAnd what\\'s good, gangstas? And what\\'s good, people?\\nAnd why God\\'s phone die every time that I call on Him?\\nIf his son had a Twitter wonder if I would follow him\\nSwallow them synonyms like cinnamon Cinnabon\\nKeep all them sentiments down to a minimum\\nStudious Gluteus Maxim models is sendin\\' him\\nPics of they genitalia tallied up ten of \\'em\\nI slurped too many pain-kills, down I\\'m off a lot\\nI got a lot off days but it ain\\'t often that I\\'m off the clock\\nYa kna wha mean? I got the Chicago Blues\\nWe invented rock before the Stones got through\\nWe just aimin\\' back cause the cops shot you\\nBUCK BUCK BANG BANG - yellin\\' \"FUCK Fox News!\"\\nBooyaka buckle up, mothaFUCK opps too\\nAin\\'t no knucklin\\' up \\'em young cause it just not cool\\n\\n[Interlude: Chance The Rapper]\\nNice to see you Father New Year, middle finger Uncle Samuel\\nShootin\\' death with weighted dice and hittin\\' stains on birthday candles\\nI know somebody, somebody loves my ass\\nCause they help me beat my demons ass\\n\\n[Chorus: Chance The Rapper + BJ the Chicago Kid]\\nEverybody\\'s somebody\\'s everything (I know you right)\\nNobody\\'s nothing (that\\'s right)\\nEverybody\\'s somebody\\'s everything (I know you right)\\nNobody\\'s nothing (that\\'s right)\\nEverybody\\'s somebody\\'s everything (that\\'s right)\\nNobody\\'s nothing (I know you right)\\n\\n[Chance The Rapper]\\nRight? (IGH!) I used to tell hoes I was dark light or off white\\nBut I\\'d fight if a nigga said that I talk white\\nAnd both my parents was black but they saw it fit that I talk right\\nWith my drawers hid but my hard head stayed in the clouds like a lost kite\\nBut gravity had me up in a submission hold\\nLike I\\'m dancin\\' with the Devil with two left feet and I\\'m pigeon toed\\nin two small point ballet shoes with a missin\\' sole\\nand two missin\\' toes but it\\'s love like Cupid kissin\\' a mistletoe\\n\\n[Interlude]\\n\\n[Saba]\\nLike Cassius duckin\\' the draft and now the fight is over\\nThe type to love from a distance not the type that told her\\nSpent three days on the rap, trash it and type it over\\nWith babies on the block under arms like fightin\\' odors; coppers and quotas\\n+Hold Ya Head+ like 2Pac had taught, obviously they are on a come up\\nwith better chances tobogganin\\' in the fuckin\\' summer\\nConcoctions for the bad days and a condom for the good ones\\nAll odds against we tryna get lucky; doper than Lucky\\nYou\\'re ending happy that\\'s only a tuggin\\'\\nLike Satan masturbatin\\' shit come hot but y\\'all still love me, ah\\nHow father time a deadbeat, maybe I\\'m adopted\\nThat\\'ll explain why all of my shit been so timeless - IGH~!\\n\\n[Chorus: Chance The Rapper + BJ the Chicago Kid]\\nEverybody\\'s somebody\\'s everything - NIGGA~!\\nNobody\\'s nothing - NIGGA~!\\nEverybody\\'s somebody\\'s everything - NIGGA~!\\nNobody\\'s nothing (Wu-Tang)\\nEverybody\\'s somebody\\'s everything (thats right)\\nNobody\\'s nothing (I know you right)\\nNobody..\\n',\n",
        " u'\\n\\nArtist: Chance The Rapper f/ Childish Gambino\\nAlbum:  Acid Rap\\nSong:   Favorite Song\\nTyped by: Cedmaster3K\\n\\n[Chance The Rapper]\\nChance, acid rapper, soccer, hacky sacker\\nCocky khaki jacket jacker (IGH!)\\nSlap-happy faggot slapper (BRUH BRUH~!) Iraqi rocket launcher\\nShake that Laffy Taffy, Jolly Rancher/raunchy rapper\\nBang, bang, bang - skeet, skeet, skeet; she do that thing for three retweets\\nThe album feel like \\'92, now take that bong \\'fore he three-peat\\nChance, ho, acid head, cruisin\\' on that LSD\\nAsked Joseph about my deal, he looked back said \"hell yeah, let\\'s eat!\"\\n\\n[Chorus: Chance The Rqpper]\\nThis shit my favorite song, you just don\\'t know the words\\nBut I still fuck with you, you just ain\\'t never heard\\nIt go like: count that stack, pop that cap then down that Jack\\nAll my niggas hit that zan, and all my ladies bounce that back (AHHHH~!)\\nThis my jam, this my jam, this my jam, this my jam\\nI\\'m \\'bout that jam, I\\'m \\'bout that jam (IGH!) I\\'m \\'bout that jam, I\\'m \\'bout that jam (IGH!)\\nThis my jam, this my jam, this my jam, this my jam\\nI\\'m \\'bout that jam, I\\'m \\'bout that jam (IGH!) I\\'m \\'bout that jam, I\\'m bout that jam (IGH!)\\n\\n[Chance The Rapper]\\nYoung, Rascal Flatts - young ass kid ass could rap (IGH!)\\nFuck all the faculty, tobacco-packing acrobat (IGH!)\\nBack-to-back packin\\' bags back and forth with fifths of Jack\\nFourths of weed, I\\'m back to pack on hands with young Cletus to pat my back\\nReal nigga with a nose ring, that\\'s right (IGH!) just here to rap them songs (IGH!)\\nRag on my hair, wrap weed in Vegas, rockin\\' Vagabonds (IGH!)\\nSang a song, oh you don\\'t know? (what?) Well, I still bang with you\\nHang with you, sip drank with you as long as I can sang with you like (IGH!)\\n\\n[Chorus]\\n\\n[Childish Gambino]\\nYoung, ay\\nNiggas please be focused - that \\'Bino (uh), you know this (uh)\\nHe rep the home of Sosas, you know I\\'m from that Zone 6\\nYou know I rep that Stone shit, you know your \\'hood is so clit\\nAs God as my witness, this Will Smith spit real shit\\nI\\'mma be that - CG busy gettin\\', where the weed at?\\nBought your girl some new kneepads, you\\'re fuckin\\' with the Fifi bag\\nMy stars, egad, she said \"this my favorite song\"\\n\"Hold my purse\" - now she on the floor, droppin\\' like it\\'s hot\\nYou blast this shit in Abercrombie when your work is finished\\nYour mom won\\'t play it in the car cause it\\'s got cursin\\' in it\\nYour boy like \"I\\'m the one who showed you,\" he want his percentage\\nCause you were like \"this ain\\'t the nigga you said spittin\\', is it?\"\\nTwo-step - white dude\\'s Harlem Shake\\nWhy you laughin\\'? Cause you Harlem Shake\\nI was never fake, I was just too good to be true\\nThat\\'s acid rap, we killed the track, you had your +Chance+, and \\'Bino too - ooh\\n\\n[Chorus] w/ Gambino ad-libs\\n',\n",
        " u'\\n\\nArtist: Chance The Rapper f/ BJ The Chicago Kid, J.P. Floyd *, Kiara Lanier, Lili K., Will Miller *\\nAlbum:  Acid Rap\\nSong:   Good Ass Intro\\nTyped by: Cedmaster3K\\n\\n* Will Miller plays the trumpet\\n* J.P. Floyd plays the trombone\\n\\n[Intro: BJ The Chicago Kid, Lili K., Peter Cottontale, Kiara Lanier] + (Chance)\\nEven better than I was the last time baby\\nOoh ooh ooh ooh (yo we back)\\nI\\'m good, ooohh yeah, I\\'m good\\nEven better than I was the last time baby (IGH!)\\nOoh ooh ooh ooh - I\\'m good, so good\\n(And we back and we back and we back and we back)\\n(And we back and we back and we back and we back)\\nEven better than I was the last time\\n\\n[Chance The Rapper]\\nRap\\'s just make me anxious, and acid made me crazy\\nThem squares just made me looser and that wax just made me lazy\\nAnd I still make this song, and I\\'mma make another\\nIf you ever actually hit me, better watch out for my brother\\nBetter bet I\\'d take that deal, gotta watch out for my mother\\nGet a watch with all that glitters, come in clutters, different colors\\nBen-a-Baller, Benford, butlers, chauffeurs, hit a stain-er, did I stutter?\\nDid a ton of drugs and did better than all my Alma mater\\nMotherfucker money dance, hundreds zan, gallon lean\\nMake a joke \\'bout Leno\\'s hair then piggy back on Fallon\\'s spleen\\nBalancin\\' on sporadicity and fuckin\\' pure joy\\nNightly searches for a bed and I just came off tour with Troy\\nBut I can\\'t complain I got some motherfuckin\\' bitches\\nHow many lab partners have I fucked since I got suspended?\\nMr. Bennett, you done did it, you did it, you did it\\nYou did a good ass job, you did a good ass job\\nAnd I\\'m good\\n\\n[Chorus: BJ The Chicago Kid, Lili K., Peter Cottontale, Kiara Lanier]\\nBetter than I was the last time baby\\nOoh ooh ooh ooh - I\\'m good, yeah, I\\'m good, so good\\nBetter than I was the last time baby\\nOoh ooh ooh ooh - I\\'m good, so good\\n\\n[Chance The Rapper]\\nWork, work, work, work - bang nigga, bang\\nTwerk, twerk, merge, swerve - dang, pick a lane\\nFlip a bird; pigeon, plane, it\\'s a word, it\\'s a shame\\nBut God I\\'m good, swear I couldn\\xe2\\x80\\x99t be better, kickin\\' dirt on the shirts of the lames\\nKeep a tab on my exes, keep some X on my tongue\\nKeep my work out in Texas, that\\'s just me flexin\\' my lungs\\nSee them showin\\' they teeth, that\\'s just them flappin\\' they gums\\nIf they bite and I\\'m snappin\\', clap clap collapsin\\' they lungs\\nCall me Chancellor The Rapper, please say \"The Rapper\"\\nMagical word (POOF) please say \\'Kadabra\\nReplay the replays; Green Bay, the Packers\\nCremate your teammates and freebase the ashes\\nMatches to gas leaks, dusted dusk \\'til dawn\\nIt\\'s just us, and trust ya bottom bitch, my stuff the fuckin\\' bomb\\nI\\'m the motherfuckin\\' fucker, fuck a niggas fuckin\\' dumb\\nThis your favorite fuckin\\' album and ain\\'t even fuckin\\' done\\nI\\'m good! IGH!\\n\\n[Chorus] w/ ad-libs\\n\\n[Chance The Rapper] + (Lili K. + Kaira Lanier)\\nEven better that I was, even better than I was\\nEven better that I was, even better than I was\\n(I\\'m gonna be, I\\'m gonna be)\\nEven better that I was, even better than I was\\nEven better that I was, even better than I was\\n(I\\'m gonna be, I\\'m gonna be)\\nSo, so, so, so, so, so, so so so so so so so so so\\n(I\\'m gonna be, I\\'m gonna be)\\nSo, so, so, so, so, so, so so so so so so...\\nYou did a good ass job, you did a good ass job and I\\'m good\\nNa-na-na-na-na-na-naa\\nNa-na-na-na-na-na-na, na-na-na-na-na-na-na\\nNa-na-na-na-na-na-na, na-na-na-na-na-na-na\\nNa-na-na-na-na-na-na - IGH, IGH, IGH, IGH, IGH!!\\nIGH~!\\n',\n",
        " u\"\\n\\nArtist: Chance The Rapper\\nAlbum:  Acid Rap\\nSong:   Interlude (That's Love)\\nTyped by: Cedmaster3K\\n\\n[Chance The Rapper]\\nYeah yeah yeah yeah yeah\\nYeah yeah yeah yeah, yeah yeah yeah, yeah, yeah, yeah\\nYeah yeah yeah yeah, yeah, yeah\\nYeah yeah yeah yeah, yeah yeah yeah, yeah, yeah\\n\\nWhat's better than trippin' is fallin' in love\\nWhat's better than Letterman, Leno, Fallon, and all the above?\\nWhat's better than poppin' bottles tryin' to ball in the club\\nis the first caveman pops with his son, ball and a club\\nWhat's better than paper is ballin' it up\\nWhat's better than followers is actually fallin' in love\\nWhat's better than frolickin', follies, fallin' in mud?\\nRollin' in green pastures, wanderin', followin' love\\nWhat's better than eatin' is feedin' your fam\\nWhat's better than meetings is missin' meetings to meet with your fam\\nWhat's better than leanin' and needin' a Xan\\nis hittin' your zan dreamin' a dream could mean leaving the land\\nWhat's better than yellin' is hollerin' love\\nWhat's better than rhymes, nickels, dimes and dollars and dubs\\nis dialin' up your darling just for callin' her up\\nIt ain't nothin' better than fallin' in love - IGH!\\n\\nI've seen it come back, back, back and forth\\nYou hit the nail right on top of the head\\nI know you've seen it all before\\nBut when it looks you in the eyes, it ain't nothin' you could say but \\nThat's love, that's love\\nThat's love, that's love\\nSay that's love, ooh-ooh, that's lo-o-ove\\nThat's love.. that's love, that's love, that's love\\nI LOVE you! (Love you) I LOVE you! (Lo-o-ove!)\\nI LOVE you! (Love you) I LOVE you! (Lo-o-ove!)\\nI LOVE you! (Love you) I LOVE you! (Lo-o-ove!)\\nI LOVE you! (Love you) I LOVE you! (Lo-o-ove!)\\nI LOVE you! That's love\\nThat's loooo-o-o-ove, that's love\\nSay that's love, ooh-ooh, that's love\\nThat's love.. that's love, that's love, that's love\\n\",\n",
        " u'\\n\\nArtist: Chance The Rapper\\nAlbum:  Acid Rap\\nSong:   Juice\\nTyped by: Cedmaster3K\\n\\n[Intro/Interlude: Chance The Rapper]\\nThirsty, thirsty, tryna choose\\nI mean, I know, I\\'m pretty cool (IGH!)\\nMy Nitty bag, my kitty boost\\nI got the juice, I got the juice (IGH!)\\n\\n[Chance The Rapper]\\nChano, Chatham\\'s own, foolies glad I\\'m home (IGH!)\\nEven my haters kinda glad I\\'m on; Rest In Peace to my Vagabond (IGH!)\\nRapper song, singer - suspended, subpoena\\nFor misdemeanors, dreamer, held back ass is lowkey still a senior (IGH!)\\nAnd I still shake up BO Squad, prayin\\' for my BroBois (IGH!)\\nCity on the come up, shout that nigga Sosa\\nShout my nigga Fat Trel, shout my nigga Joseph (IGH!)\\nPlayin\\' \"Buenos Aires\" while they sleepin\\' - buenas noches (IGH!)\\nWonder if I wrote this, cause it\\'s so crisp\\nThe most brokest cold stock broker winter solstice (IGH!)\\nI could win an Oscar, Russian Accent Husky\\nAcid addict, costly avid actor - Kevin Costner (AHHHHHHHHH!!!!! TURN UP! TURN UP!)\\n\\n[Chorus 2X: Chance The Rapper]\\nJuice! (Juice!) Juice! (Juice!) Juice! (Juice!) Juice! (Juice!)\\nI got the juice, I got the juice (Yup!)\\n\\n[Chance The Rapper]\\nGod give me one sentence more, maybe I just gotta get suspended more? (IGH!)\\nHash tag it, get mentions for it (IGH!) Make you love it, get it trending more (IGH!)\\nAnd then act humble, hear some bull that some dude mumble\\nWantin\\' to jump dude, but let that nigga punk you, knowin bitch niggas wanna bring guns to the rumbles (IGH!)\\nBut I love y\\'all souls (IGH!) Don\\'t let the +Juice+ spill Pac\\nBlue pill pop \\'til you feel good enough to pop the popped bitch in the blue heels yop (IGH!)\\nThat one - drown in the juice nigga; hun\\'nid proof get found in a youth nigga\\nStop with all the trynna introduce nigga, everybody know you dude you the new nigga! (IGH!)\\nHows it feel to be you? Yo no s\\xc3\\xa9, I ain\\'t really been myself since Rod passed\\nI ain\\'t even really need that shop class, I ain\\'t really been weak since pops smashed\\nI\\'m a genius, a mothafuckin pop smash; hit sensei, master\\nJack and Lindsey, Wiley, Kembe, been paid, 10 Day been they FAFSA (AHHHHHHHHH!!!!! TURN UP! TURN UP!)\\n\\n[Chorus]\\n\\n[Chance The Rapper]\\nJuuuuugo.. you never tasted paper\\nTripped, racing yaself trynna chase the paper\\nI just faced a Vega and you love being Kobe when you make the lay up\\n\\'til you realize everybody in the world fuckin hates the Lakers\\nHahahah, and then everybody wanna sip\\n\\'til the juice spill everybody want a bib, and then everybody wanna dip\\nTold you I ain\\'t worried, I ain\\'t scared of the booth, all you can do is spit a verse of the truth\\nMerge the mixture with the purest and the fruits and the thirst, just the worst, it\\'s the curse of the juice\\n\\n[Chorus] + [Interlude]\\n\\n[Chance The Rapper - first half over Interlude]\\nJuice, juice, juice, juice... yup!\\nJuice, juice, juice, juice... yup!\\nJuice, juice, juice, juice... yup!\\nJuice, juice, juice, juice... yup!\\nYup! Yup! ...Yup!\\n',\n",
        " u'\\n\\nArtist: Chance The Rapper f/ Noname Gypsy\\nAlbum:  Acid Rap\\nSong:   Lost\\nTyped by: Cedmaster3K\\n\\n[Intro: Chance The Rapper]\\nMy druggy, love me when I\\'m ugly\\nHug me when I\\'m bummy, scummy; I\\'m your hubby\\nLet\\'s get lo-ost... let\\'s get lo-ost...\\n\\n[Chance The Rapper]\\nDamn I\\'m in so deep girl, probably cause you\\'re empty\\nYou can\\'t even speak girl; damn your mouth so minty\\nOoh your mama hate me, daddy wouldn\\'t let you \\nif he ever met me, if he ever met you\\nPut that shit behind us, and put this in your sinus\\nMine is all up in my gums, minus all that shit its lined with\\nI say oh-oh-oh-ohh - you been scratchin, you been fiendin\\nI\\'mma fix you, I\\'mma fuck you, I\\'mma get rid of them demons - it\\'s my\\n\\n[Chorus: Chance The Rapper + woman]\\nMy druggy.. when I\\'m ugly\\nHug me when I\\'m bummy, scummy; I\\'m your hubby\\nLet\\'s get lo-ost... let\\'s get lo-ost...\\n\\n[Chance The Rapper]\\nDamn I need a minute... aight leh\\'go\\nShe fell in love, it fell apart... aight leh\\'go\\nShe met her match, I let her match, she lit her match, she let me smoke\\nYeah me mad petty, yeah me bogus, yeah yeah yeah yeah yeah me know\\nYeah she knew too (IGH!) it made her love it\\nHer pussy like me, her heart like fuck it\\nSo dance for daddy like Gator, ain\\'t no partners on this trip\\nAnd lose yourself in my room and find yourself in my grip - I\\'m sayin\\n\\n[Chorus]\\n\\n[Noname Gypsy]\\nI blessed myself inside your arms one day, swear to God there I was when the dress\\nAnd the Silver buttons fade away; Miss Mary Mattress, geriatrics\\nFuck me into open caskets, I wanna die with this\\nI wanna stop seein\\' my psychiatrist: she said \"pill, pop, baby, girl \\ncause I promise you, you tweaked; the empty bottled loneliness\\nThis happiness you seek\" the masochism that you preach\\nPractice back flips, tragic actress on a movie with no screen\\nWhen the only time he loves me is naked in my dreams\\n\\n[Chorus]\\n\\n[Chance The Rapper]\\nIGH!\\n',\n",
        " u\"\\n\\nArtist: Chance The Rapper f/ Action Bronson\\nAlbum:  Acid Rap\\nSong:   NaNa\\nTyped by: Cedmaster3K\\n\\n[Intro: Chance The Rapper]\\nNo, no no no, no no no (IGH!)\\nNo no no, no no no (IGH!)\\nNo no no, no no no (IGH!)\\n\\n[Chance The Rapper]\\nIntroducin' (IGH!) Chance the Ruthless\\nTrip 'shrooms and lucy (hah!) dreams is lucid\\nLoosely based on music, swallow my mucus\\nHope your pussy get herpes and yo' ass get lupus (IGH!)\\nDeuces douches, deuce deuce I'll shoot ya (BLAOW)\\nShoes might boot 'cha and a suit might suit 'cha\\nThey be on bullshit but they really don't do shit\\nThey use of illusion could confuse Confucius\\nNasty, ashy (IGH!) cigarette ashin'\\n'til my voice get raspy; last week suspended\\nLast night kissed Va$htie, parleyed with Ashley\\nAlways in the hallway, so I never been classy (hahaha)\\nShut up!\\n\\n[Chorus: Chance The Rapper]\\nNa na na, na na na\\nNa na na, na na na\\nNa na na, na na na\\n\\n(IGH! IGH! IGH! IGH!)\\n\\n[Chance the Rapper]\\nAcid, acid (IGH!) get it? Acid\\nMelts through plastic, I spit fired\\nPad my palette (IGH!) talkin' paper\\nIf this was work (IGH!) I'd get higher (hahah)\\nPardon my mishaps, burp and get murdered (IGH!)\\nFart and get bitch-slapped, like Bourbon mixed with Jack (IGH!)\\nLickety-split, look it, he slipped on a shell\\nfrom peelin' (IGH!) banana splits back, give me my Kit-Kat (AHHHHH~!)\\nDon't break me off shit, batch, fack is you mean bitch?\\nZan with that lean bitch, zan with that lean bitch\\nZen with that chakra, I eat it like Idi Amin\\nYa kna wha mean? Hit me back when that mean shit (SHUT UP~!)\\n\\n[Chorus]\\n\\n[Action Bronson]\\nNa na na.. na na na.. na na na\\nUhh, it's me, uh (oww oww oww oww!)\\nyow yow, ying-yow\\nUhh, yow, yow yow, yeah, uhh\\n\\nIntroducin', It\\xe2\\x80\\x99s Bronsonlino (it's me)\\nWith my hair slicked back, I look like Rick Pitino (uh)\\n3 Japanese dykes in my El Camino (haha)\\nLettin' trees blow, oh (yeah)\\nI rep the East Coast (uh) I got a team of hoes like Pat Summit\\nI look like Arnold Schwarzenegger in a black hummer (Get to the chopper!)\\nI splash summer like a fast brother\\nWith a number on his back, ain\\xe2\\x80\\x99t no fumblin', in fact, I\\xe2\\x80\\x99m -\\nback, acid in my hat\\nShoot then pass the gat, it's at the bottom of the river in a plastic bag\\nMy new shorty got a gymnastic back (uh)\\n87 emerald green on a classic jag\\nShe had the cleft palate (uh) I ordered chef\\xe2\\x80\\x99s salad (okay)\\nShe had the club foot (what else) with that little arm (haha)\\nI couldn\\xe2\\x80\\x99t help but laugh, she ordered Chicken Parm\\nI had the full Bulls warm-up with the Pippens on (it's me)\\n\\nNa na na, na na na\\nNa na na, na na na\\nSuck my motherfucking dick, it's the young Randy Velarde\\nQueens, baby, uh\\nNa na na, na na na\\nNa na na, {*gibberish, followed by coughing*}\\nBlow me!\\n\",\n",
        " u'\\n\\nArtist: Chance The Rapper\\nAlbum:  Acid Rap\\nSong:   Paranoia *\\nTyped by: Cedmaster3K\\n\\n* song starts after \"Pusha Man\" at the 2:19 mark\\n\\n{*instrumental starts after 30 seconds of silence*}\\n\\n[Chorus 2X: Chance The Rapper]\\nI\\'ve been ridin\\' around with my blunt on my lips\\nwith the sun in my eyes and my gun on my hip\\nParanoia on my mind, got my mind on the fritz\\nBut a lot of niggas dyin\\', so my 9 with the shits\\n\\n[Chance The Rapper]\\nMove to the neighborhood; I bet they don\\'t stay for good, watch\\nSomebody\\'ll steal daddy\\'s Rollie, call it the neighborhood watch\\nPray for a safer hood when my paper good, watch\\nCaptain Save-a-Hood, hood savior, baby boy\\nStill getting ID\\'d for Swishers (mama still wash my clothes)\\nStill with Save Money militia (I\\'mma still watch my bros)\\nTrapped in the middle of the map with a little-bitty rock and a little bit of rap\\nThat with a literary knack and a little shitty Mac and like literally jack\\n\\n[Chorus]\\n\\n[Chance The Rapper]\\nThey murkin\\' kids; they murder kids here\\nWhy you think they don\\'t talk about it? They deserted us here\\nWhere the fuck is Matt Lauer at? Somebody get Katie Couric in here\\nProbably scared of all the refugees; look like we had a fuckin\\' hurricane here\\nThey\\'ll be shootin\\' whether it\\'s dark or not, I mean the days is pretty dark a lot\\nDown here, it\\'s easier to find a gun than it is to find a fuckin\\' parking spot\\nNo love for the opposition, specifically a cop position cause they\\'ve never been in our position\\nGettin\\' violations for the nation, correlatin\\', you dry snitchin\\'\\n\\n[Chorus]\\n\\n[Interlude: Chance The Rapper]\\nI know, you scared, you should ask us if we scared too\\nI know you scared... me too\\nI know, you scared, you should ask us if we scared too\\nIf you, was there, then we\\'d just knew you cared too\\n\\n[Chance The Rapper]\\nIt just got warm out, this the shit I\\'ve been warned \\'bout\\nI hope that it storm in the morning, I hope that it\\'s pourin\\' out\\nI hate crowded beaches, I hate the sound of fireworks\\nAnd I ponder what\\'s worse between knowin\\' it\\'s over and dyin\\' first\\nCause everybody dies in the summer\\nWanna say ya goodbyes, tell them while it\\'s spring\\nI heard everybody\\'s dyin\\' in the summer\\nSo pray to God for a little more spring\\n\\n[Interlude] - second half\\n',\n",
        " u'\\n\\nArtist: Chance The Rapper f/ Lili K. *, Nate Fox\\nAlbum:  Acid Rap\\nSong:   Pusha Man\\nTyped by: Cedmaster3K\\n\\n* Lili K. is on background vocals\\n\\n[Chance The Rapper]\\nTen -- damn -- days\\nAnd all I got to show for it is shoes and shows and chauffeurs with road rage\\nStill the same damn ad-lib: IGH! Old, ways\\nStill gotta letterman, no practice; still gotta burner man, no lackin\\'\\nStill outtin Jams nigga, no Jackson; no Jordan and we toe-taggin\\'\\nI\\'ll take you to the land where the lake made of sand and the milk don\\'t pour and the honey don\\'t dance and the money ain\\'t yours\\nNow its just a red pill, got a blue and a hand full of Advils\\nI\\'m the new Nitty, fuck it Nitty the old me so I\\'mma tell the buyer what Nitty told me\\n\\n[Chorus 2X: Nate Fox - second time chopped and screwed]\\nI got that mmm-mmm, I got that Goddamn\\nI\\'m yo\\' pusha man, I\\'m yo\\', I\\'m your pusha man\\nPimp slappin\\', toe taggin\\', I\\'m just tryna fight the man\\nI\\'m yo\\' pusha man, I\\'m yo\\', I\\'m yo\\' pusha man\\n\\n[Nate Fox - chopped and screwed]\\nPimp slappin\\', toe taggin\\', I\\'m just tryna fight the man\\nI\\'m yo\\' pusha man, I\\'m yo\\', I\\'m yo\\' pusha man\\n\\n[Chance The Rapper]\\nYou a laaaaaaaame, and your bitch break down my weed sometimes\\nSee my face in the streets, in the tweets and a Reader or a RedEye if you read Sun-Times\\nShe got blisters on her knees, she\\'s a fiend for the D even though I only beat one time\\nOne time, it was one two times, it was two plus me equals threesome time\\nShouts out to Nate, I jackball and I bop, I flex\\nGot neck from all these thots I sex; Rastafari them shottas yes\\nHouse safari, mi casa, yes; poppy fields of that popeye\\nShe came to party, she popped a Molly, said \"come to papa\", she said \"papa, yes\"\\n\\n[Chorus]\\n',\n",
        " u\"\\n\\nArtist: Chance The Rapper f/ Ab-Soul\\nAlbum:  Acid Rap\\nSong:   Smoke Again\\nTyped by: Cedmaster3K\\n\\n[Intro: Chance The Rapper]\\nIGH! Hmm-mm-mmm (IGH!)\\nDa-da-da-da-da-da-da, da-da-da-da-da-da - +Acid Rap+!\\n\\n[Chorus 2X: chopped and screwed voice]\\nI don't even talk to them on the phone again, leave in the AM, on the road again\\nSo bitch, let's fuck so I can smoke again, I gotta smoke again, I got shit to do\\n\\n[Chance The Rapper]\\nWho smokin in my car? It's that nigga Chano\\nAKA Mr. Bennett, AK Tony Montano\\nI've got some folks in low end, I got some folks in c-note\\nAK hundred dinero, you ever seen Casino?\\nI just got back with 'Bino, I got a bitch but she know\\nHer friends done did the Dino - that's that Chicago lingo\\nFlamin' hots with Cheese and a kiwi Mistic\\nMy dick won't even call her cause she left all that lipstick\\nNiggas be on dirt, that's why I stay on petty\\nI know that bangers jam, that's why my hands stay ready\\nFlip the candy yum, that's the fuckin' bombest\\nLean all on the square - that's a FUCKIN' rhombus\\n\\n[Chorus] - 2X\\n\\n[Chance the Rapper]\\nWho's sneakin' in the club? That's that young Sir Rapper\\nUn-saran wrap the purple, wrap that blunt under after\\nSmoke all out the window, cops could eat a dick\\nIf you ain't the hitter, you just might be the lick\\nFlame on, flame on, I'm your, bitch's ringtone\\nShe like when I rap, raps but better when I sing, songs\\nNo Drake, but I get my Trey on; killin' in the hood like Trayvon\\nShoppin' like I got a coupon, savin' like I got a cape on\\nCookin' crack in my apron, dressed like a nigga had 8 proms\\nTell shorty I may change and I made it and I napalm\\nTrippy shit to watch, drugs while on the clock\\nAcid on the face - that's a work of art\\n\\n[Chorus] - 2X\\n\\n[Ab-Soul]\\nSoulo ho, ho twerk somethin' (Soulo) throw it back like you tryna hurt somethin' (Soulo)\\nI'm so def, I ain't ever heard nothin'; my name Herb, take herb, smoke herb (say word?)\\nHeh, how 'bout you? No dap, but I'll take a pound or two\\n+No Doubt+ like Gwen Stefani's group, look let me put my mouth where you potty, boo\\n(Hahaha) IGH! I can't get that, yeah\\nThem niggas pissed, need potty trainin', they movement shit, that's a potty train (uh)\\nShe ain't left yet, but she probably came, we kicked it then I scored - soccer game (yeah)\\nShe was a phony goalie, I got great aim though, don't insult me\\nI'll give it to ya straight, this is what she told me, my name Soulo cause I'm the one and only (Soulo)\\nShe only got you as a nigga on the side - that's a nigga on the side of a side bitch, homie (ay)\\nThen we got out a Dodge, like them Dukes of Hazzard\\nMusic and tabs of Lucy, take your chance with this rapper\\nSoul~!\\n\\n[Chorus] - 2X\\n\"]"
       ]
      }
     ],
     "prompt_number": 91
    },
    {
     "cell_type": "code",
     "collapsed": false,
     "input": [
      "ls.pull_lyrics('http://www.ohhla.com/anonymous/chancetr/acidrain.ctr.txt')"
     ],
     "language": "python",
     "metadata": {},
     "outputs": [
      {
       "metadata": {},
       "output_type": "pyout",
       "prompt_number": 85,
       "text": [
        "''"
       ]
      }
     ],
     "prompt_number": 85
    },
    {
     "cell_type": "code",
     "collapsed": false,
     "input": [
      "ls.pull_lyrics('http://www.ohhla.com/anonymous/chancetr/acid_rap/acidrain.ctr.txt')"
     ],
     "language": "python",
     "metadata": {},
     "outputs": [
      {
       "metadata": {},
       "output_type": "pyout",
       "prompt_number": 86,
       "text": [
        "u'\\n\\nArtist: Chance The Rapper\\nAlbum:  Acid Rap\\nSong:   Acid Rain\\nTyped by: Cedmaster3K\\n\\n[Intro: Chance The Rapper]\\nNa-na na na-na-nah\\nNa-na-na-na na na na na-nah\\nNa-na-na na na-na-nah\\nNa-na-na-na na na na na-nah (IGH!)\\n... Na-na-na-na na na na na-nah\\nNa-na-na-na na-na-na-na na na na na-nah\\nNa na-na-na-na nah...\\n\\n[Chance The Rapper]\\nKicked off my shoes, tripped acid in the rain\\nWore my jacket as a cape, and my umbrella as a cane\\nThe richest man rocks the snatch-less necklace\\nSpineless bitches in backless dresses\\n... Wore my feelings on my sleeveless\\n... My weed seedless, my trees leafless\\nI miss my diagonal grilled cheeses\\nAnd back when Mike Jackson was still Jesus\\nBefore I believed in not believin\\' in\\nYeah, I inhaled, who believed in me not breathin\\' in?\\nCigarette stained smile all covered in sin\\nMy big homie died young; just turned older than him\\nI seen it happen, I seen it happen, I see it always\\nHe still be screamin\\', I see his demons in empty hallways\\n... I trip to make the fall shorter\\n... Fall quarter was just a tall order\\nAnd I\\'m hungry, I\\'m just not that thirsty\\nAs of late, all my verses seem not so verse-y\\nAnd all my words just mean controversy\\nTook the team up off my back, like \"That\\'s not your jersey?\"\\nStressin\\', pullin\\' my hair out, hopin\\' I don\\'t get picked\\nAll this medicine in me hopin\\' I don\\'t get sick\\nMaking all of this money hopin\\' I don\\'t get rich\\nCause niggas still getting bodied for foams\\n\\nSometimes the truth don\\'t rhyme\\nSometime the lies get millions of views\\nFunerals for little girls, is that appealin\\' to you?\\nFrom your cubicle desktop, what a beautiful view\\n... I think love is beautiful, too\\nBuilding forts from broken dams, what a hoover could do\\nFor future hoopers dead from Rugers shootin\\' through the empty alley\\nCould\\'ve threw him an alley-oop, helping him do good in school\\nDamn that acid burn when it clean ya\\n... I still miss bein\\' a senior\\nAnd performing at, all those open mic events\\nHigh schools, eyes closed seein\\' arenas\\n... And I still get jealous of Vic\\n... And Vic\\'s still jealous of me\\nBut if you touch my brother\\nAll that anti-violence shit goes out the window along with you and the rest of your team\\n... Smokin\\' cigarettes to look cooler\\n... I only stop by to look through ya\\n... And I\\'m only gettin\\' greedier\\n... And I\\'m still Mr. Youmedia\\n... And I still can\\'t find talent\\nAnd I\\'m still choosin\\' classmates that wouldn\\'t fuck\\nMom still thinks I should go back to school\\nAnd Justin still thinks I\\'m good enough\\nAnd Mama Jan still don\\'t take her meds\\nAnd I still be askin\\' God to show his face\\nAnd I still be askin\\' God to show his face...\\n\\n[Chance The Rapper - singing]\\nI am a new man, I am sanctified, ohhh\\nOhh I am holy, I have been baptized\\nI have been born again, I am the White Light\\nRain, rain don\\'t go away...\\nBow wow wow wow wow wow {*7X to fade*}\\nIGH!\\n'"
       ]
      }
     ],
     "prompt_number": 86
    },
    {
     "cell_type": "code",
     "collapsed": false,
     "input": [
      "ls.pull_lyrics('http://www.ohhla.com/anonymous/chancetr/acid_rap/acidrain.ctr.txt').split('\\n')"
     ],
     "language": "python",
     "metadata": {},
     "outputs": [
      {
       "metadata": {},
       "output_type": "pyout",
       "prompt_number": 95,
       "text": [
        "[u'',\n",
        " u'',\n",
        " u'Artist: Chance The Rapper',\n",
        " u'Album:  Acid Rap',\n",
        " u'Song:   Acid Rain',\n",
        " u'Typed by: Cedmaster3K',\n",
        " u'',\n",
        " u'[Intro: Chance The Rapper]',\n",
        " u'Na-na na na-na-nah',\n",
        " u'Na-na-na-na na na na na-nah',\n",
        " u'Na-na-na na na-na-nah',\n",
        " u'Na-na-na-na na na na na-nah (IGH!)',\n",
        " u'... Na-na-na-na na na na na-nah',\n",
        " u'Na-na-na-na na-na-na-na na na na na-nah',\n",
        " u'Na na-na-na-na nah...',\n",
        " u'',\n",
        " u'[Chance The Rapper]',\n",
        " u'Kicked off my shoes, tripped acid in the rain',\n",
        " u'Wore my jacket as a cape, and my umbrella as a cane',\n",
        " u'The richest man rocks the snatch-less necklace',\n",
        " u'Spineless bitches in backless dresses',\n",
        " u'... Wore my feelings on my sleeveless',\n",
        " u'... My weed seedless, my trees leafless',\n",
        " u'I miss my diagonal grilled cheeses',\n",
        " u'And back when Mike Jackson was still Jesus',\n",
        " u\"Before I believed in not believin' in\",\n",
        " u\"Yeah, I inhaled, who believed in me not breathin' in?\",\n",
        " u'Cigarette stained smile all covered in sin',\n",
        " u'My big homie died young; just turned older than him',\n",
        " u'I seen it happen, I seen it happen, I see it always',\n",
        " u\"He still be screamin', I see his demons in empty hallways\",\n",
        " u'... I trip to make the fall shorter',\n",
        " u'... Fall quarter was just a tall order',\n",
        " u\"And I'm hungry, I'm just not that thirsty\",\n",
        " u'As of late, all my verses seem not so verse-y',\n",
        " u'And all my words just mean controversy',\n",
        " u'Took the team up off my back, like \"That\\'s not your jersey?\"',\n",
        " u\"Stressin', pullin' my hair out, hopin' I don't get picked\",\n",
        " u\"All this medicine in me hopin' I don't get sick\",\n",
        " u\"Making all of this money hopin' I don't get rich\",\n",
        " u'Cause niggas still getting bodied for foams',\n",
        " u'',\n",
        " u\"Sometimes the truth don't rhyme\",\n",
        " u'Sometime the lies get millions of views',\n",
        " u\"Funerals for little girls, is that appealin' to you?\",\n",
        " u'From your cubicle desktop, what a beautiful view',\n",
        " u'... I think love is beautiful, too',\n",
        " u'Building forts from broken dams, what a hoover could do',\n",
        " u\"For future hoopers dead from Rugers shootin' through the empty alley\",\n",
        " u\"Could've threw him an alley-oop, helping him do good in school\",\n",
        " u'Damn that acid burn when it clean ya',\n",
        " u\"... I still miss bein' a senior\",\n",
        " u'And performing at, all those open mic events',\n",
        " u\"High schools, eyes closed seein' arenas\",\n",
        " u'... And I still get jealous of Vic',\n",
        " u\"... And Vic's still jealous of me\",\n",
        " u'But if you touch my brother',\n",
        " u'All that anti-violence shit goes out the window along with you and the rest of your team',\n",
        " u\"... Smokin' cigarettes to look cooler\",\n",
        " u'... I only stop by to look through ya',\n",
        " u\"... And I'm only gettin' greedier\",\n",
        " u\"... And I'm still Mr. Youmedia\",\n",
        " u\"... And I still can't find talent\",\n",
        " u\"And I'm still choosin' classmates that wouldn't fuck\",\n",
        " u'Mom still thinks I should go back to school',\n",
        " u\"And Justin still thinks I'm good enough\",\n",
        " u\"And Mama Jan still don't take her meds\",\n",
        " u\"And I still be askin' God to show his face\",\n",
        " u\"And I still be askin' God to show his face...\",\n",
        " u'',\n",
        " u'[Chance The Rapper - singing]',\n",
        " u'I am a new man, I am sanctified, ohhh',\n",
        " u'Ohh I am holy, I have been baptized',\n",
        " u'I have been born again, I am the White Light',\n",
        " u\"Rain, rain don't go away...\",\n",
        " u'Bow wow wow wow wow wow {*7X to fade*}',\n",
        " u'IGH!',\n",
        " u'']"
       ]
      }
     ],
     "prompt_number": 95
    },
    {
     "cell_type": "code",
     "collapsed": false,
     "input": [
      "def clean_ohhla(line): \n",
      "    if len(line) == 0:\n",
      "        return ' '\n",
      "\n",
      "    elif (line.split()[0] == 'Artist:') or line.split()[0] == 'Album:' or (line.split()[0] == 'Song:') or (line.split()[0] == 'Typed') or (line[0] == '['):\n",
      "        return ''\n",
      "    else:\n",
      "        return line\n"
     ],
     "language": "python",
     "metadata": {},
     "outputs": []
    }
   ],
   "metadata": {}
  }
 ]
}