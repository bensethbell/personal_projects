{
 "metadata": {
  "name": ""
 },
 "nbformat": 3,
 "nbformat_minor": 0,
 "worksheets": [
  {
   "cells": [
    {
     "cell_type": "code",
     "collapsed": false,
     "input": [
      "import smtplib\n",
      "\n",
      "sender = 'bsbell21@gmail.com'\n",
      "receivers = ['bsbell21@gmail.com']\n",
      "\n",
      "message = \"\"\"From: From Person <from@fromdomain.com>\n",
      "To: To Person <to@todomain.com>\n",
      "Subject: SMTP e-mail test\n",
      "\n",
      "This is a test e-mail message.\n",
      "\"\"\"\n",
      "\n",
      "try:\n",
      "   smtpObj = smtplib.SMTP('localhost')\n",
      "   smtpObj.sendmail(sender, receivers, message)         \n",
      "   print \"Successfully sent email\"\n",
      "except SMTPException:\n",
      "   print \"Error: unable to send email\""
     ],
     "language": "python",
     "metadata": {},
     "outputs": [
      {
       "ename": "NameError",
       "evalue": "name 'SMTPException' is not defined",
       "output_type": "pyerr",
       "traceback": [
        "\u001b[0;31m---------------------------------------------------------------------------\u001b[0m\n\u001b[0;31mNameError\u001b[0m                                 Traceback (most recent call last)",
        "\u001b[0;32m<ipython-input-1-330c57490663>\u001b[0m in \u001b[0;36m<module>\u001b[0;34m()\u001b[0m\n\u001b[1;32m     15\u001b[0m    \u001b[0msmtpObj\u001b[0m\u001b[0;34m.\u001b[0m\u001b[0msendmail\u001b[0m\u001b[0;34m(\u001b[0m\u001b[0msender\u001b[0m\u001b[0;34m,\u001b[0m \u001b[0mreceivers\u001b[0m\u001b[0;34m,\u001b[0m \u001b[0mmessage\u001b[0m\u001b[0;34m)\u001b[0m\u001b[0;34m\u001b[0m\u001b[0m\n\u001b[1;32m     16\u001b[0m    \u001b[0;32mprint\u001b[0m \u001b[0;34m\"Successfully sent email\"\u001b[0m\u001b[0;34m\u001b[0m\u001b[0m\n\u001b[0;32m---> 17\u001b[0;31m \u001b[0;32mexcept\u001b[0m \u001b[0mSMTPException\u001b[0m\u001b[0;34m:\u001b[0m\u001b[0;34m\u001b[0m\u001b[0m\n\u001b[0m\u001b[1;32m     18\u001b[0m    \u001b[0;32mprint\u001b[0m \u001b[0;34m\"Error: unable to send email\"\u001b[0m\u001b[0;34m\u001b[0m\u001b[0m\n",
        "\u001b[0;31mNameError\u001b[0m: name 'SMTPException' is not defined"
       ]
      }
     ],
     "prompt_number": 1
    },
    {
     "cell_type": "code",
     "collapsed": false,
     "input": [
      "def send_email():\n",
      "    import smtplib\n",
      "    \n",
      "    gmail_user = \"bsbell21@gmail.com\"\n",
      "    gmail_pwd = \"bllby2088\"\n",
      "    FROM = 'bsbell21@gmail.com'\n",
      "    TO = ['bsbell2asdfe1@gmail.com'] #must be a list\n",
      "    SUBJECT = \"Testing sending using gmail\"\n",
      "    TEXT = \"Testing sending mail using gmail servers\"\n",
      "    \n",
      "    # Prepare actual message\n",
      "    message = \"\"\"\\From: %s\\nTo: %s\\nSubject: %s\\n\\n%s\n",
      "    \"\"\" % (FROM, \", \".join(TO), SUBJECT, TEXT)\n",
      "    try:\n",
      "        #server = smtplib.SMTP(SERVER) \n",
      "        server = smtplib.SMTP(\"smtp.gmail.com\", 587) #or port 465 doesn't seem to work!\n",
      "        server.ehlo()\n",
      "        server.starttls()\n",
      "        server.login(gmail_user, gmail_pwd)\n",
      "        server.sendmail(FROM, TO, message)\n",
      "        #server.quit()\n",
      "        server.close()\n",
      "        print 'successfully sent the mail'\n",
      "    except:\n",
      "        print \"failed to send mail\""
     ],
     "language": "python",
     "metadata": {},
     "outputs": [],
     "prompt_number": 4
    },
    {
     "cell_type": "code",
     "collapsed": false,
     "input": [
      "send_email()"
     ],
     "language": "python",
     "metadata": {},
     "outputs": [
      {
       "output_type": "stream",
       "stream": "stdout",
       "text": [
        "successfully sent the mail\n"
       ]
      }
     ],
     "prompt_number": 5
    },
    {
     "cell_type": "code",
     "collapsed": false,
     "input": [
      "from validate_email import validate_email\n",
      "is_valid = validate_email('bsbell21asdfs234123@gmail.com')"
     ],
     "language": "python",
     "metadata": {},
     "outputs": [],
     "prompt_number": 8
    },
    {
     "cell_type": "code",
     "collapsed": false,
     "input": [
      "is_valid"
     ],
     "language": "python",
     "metadata": {},
     "outputs": [
      {
       "metadata": {},
       "output_type": "pyout",
       "prompt_number": 9,
       "text": [
        "True"
       ]
      }
     ],
     "prompt_number": 9
    },
    {
     "cell_type": "code",
     "collapsed": false,
     "input": [
      "import DNS, smtplib, socket\n",
      "\n",
      "def checkmail(mail):\n",
      "        DNS.DiscoverNameServers()\n",
      "        print \"checking %s...\"%(mail)\n",
      "        hostname = mail[mail.find('@')+1:]\n",
      "        mx_hosts = DNS.mxlookup(hostname)\n",
      "        failed_mx = True\n",
      "        for mx in mx_hosts:\n",
      "                smtp = smtplib.SMTP()\n",
      "                try:\n",
      "                        smtp.connect(mx[1])\n",
      "                        print \"Stage 1 (MX lookup & connect) successful.\"\n",
      "                        failed_mx = False\n",
      "                        s = socket.socket(socket.AF_INET, socket.SOCK_STREAM)\n",
      "                        s.connect((mx[1], 25))\n",
      "                        s.recv(1024)\n",
      "                        s.send(\"HELO %s\\n\"%(mx[1]))\n",
      "                        s.recv(1024)\n",
      "                        s.send(\"MAIL FROM:< test@test.com>\\n\")\n",
      "                        s.recv(1024)\n",
      "                        s.send(\"RCPT TO:<%s>\\n\"%(mail))\n",
      "                        result = s.recv(1024)\n",
      "                        print 'result', result\n",
      "                        if result.find('Recipient address rejected') > 0:\n",
      "                                print \"Failed at stage 2 (recipient does not exist)\"\n",
      "                                failed_mx = True\n",
      "                        elif result.find('does not exist') > 0:\n",
      "                                print \"Failed at stage 2 (recipient does not exist)\"\n",
      "                                failed_mx = True\n",
      "                        else:\n",
      "                                print \"Address valid.\"\n",
      "                                failed_mx = False\n",
      "                        s.send(\"QUIT\\n\")\n",
      "                        break\n",
      "                except smtplib.SMTPConnectError:\n",
      "                        continue\n",
      "        print 'failed_mx', failed_mx\n",
      "        if failed_mx:\n",
      "                print \"Failed at stage 1 (MX lookup & connect).\"\n",
      "        print \"\"\n",
      "        if not failed_mx:\n",
      "                return True\n",
      "        return False"
     ],
     "language": "python",
     "metadata": {},
     "outputs": [],
     "prompt_number": 60
    },
    {
     "cell_type": "code",
     "collapsed": false,
     "input": [
      "checkmail('sergey2343t346a@reddit.com')"
     ],
     "language": "python",
     "metadata": {},
     "outputs": [
      {
       "output_type": "stream",
       "stream": "stdout",
       "text": [
        "checking sergey2343t346a@reddit.com...\n",
        "Stage 1 (MX lookup & connect) successful."
       ]
      },
      {
       "output_type": "stream",
       "stream": "stdout",
       "text": [
        "\n",
        "result"
       ]
      },
      {
       "output_type": "stream",
       "stream": "stdout",
       "text": [
        " 503 5.5.1 EHLO/HELO first. mf4si36604420igb.53 - gsmtp\r\n",
        "\n",
        "Address valid.\n",
        "failed_mx False\n",
        "\n"
       ]
      },
      {
       "metadata": {},
       "output_type": "pyout",
       "prompt_number": 65,
       "text": [
        "True"
       ]
      }
     ],
     "prompt_number": 65
    },
    {
     "cell_type": "code",
     "collapsed": false,
     "input": [
      "checkmail('jeremyst@twitter.com')"
     ],
     "language": "python",
     "metadata": {},
     "outputs": [
      {
       "output_type": "stream",
       "stream": "stdout",
       "text": [
        "checking jeremyst@twitter.com...\n",
        "Stage 1 (MX lookup & connect) successful."
       ]
      },
      {
       "output_type": "stream",
       "stream": "stdout",
       "text": [
        "\n",
        "result"
       ]
      },
      {
       "output_type": "stream",
       "stream": "stdout",
       "text": [
        " 550-5.1.1 The email account that you tried to reach does not exist. Please try\r\n",
        "550-5.1.1 double-checking the recipient's email address for typos or\r\n",
        "550-5.1.1 unnecessary spaces. Learn more at\r\n",
        "550 5.1.1 http://support.google.com/mail/bin/answer.py?answer=6596 o3si8542561ict.1 - gsmtp\r\n",
        "\n",
        "Failed at stage 2 (recipient does not exist)\n",
        "failed_mx True\n",
        "Failed at stage 1 (MX lookup & connect).\n",
        "\n"
       ]
      },
      {
       "metadata": {},
       "output_type": "pyout",
       "prompt_number": 54,
       "text": [
        "False"
       ]
      }
     ],
     "prompt_number": 54
    },
    {
     "cell_type": "code",
     "collapsed": false,
     "input": [
      "checkmail('bsbell2asdfe1@gmail.com')"
     ],
     "language": "python",
     "metadata": {},
     "outputs": [
      {
       "output_type": "stream",
       "stream": "stdout",
       "text": [
        "checking bsbell2asdfe1@gmail.com...\n",
        "Stage 1 (MX lookup & connect) successful."
       ]
      },
      {
       "output_type": "stream",
       "stream": "stdout",
       "text": [
        "\n",
        "550-5.1.1 The email account that you tried to reach does not exist. Please try\r\n",
        "550-5.1.1 double-checking the recipient's email address for typos or\r\n",
        "550-5.1.1 unnecessary spaces. Learn more at\r\n",
        "550 5.1.1 http://support.google.com/mail/bin/answer.py?answer=6596 q6si2042127icz.99 - gsmtp\r\n"
       ]
      },
      {
       "output_type": "stream",
       "stream": "stdout",
       "text": [
        "\n",
        "Failed at stage 2 (recipient does not exist)\n",
        "failed_mx True\n",
        "Failed at stage 1 (MX lookup & connect).\n",
        "\n"
       ]
      },
      {
       "metadata": {},
       "output_type": "pyout",
       "prompt_number": 27,
       "text": [
        "False"
       ]
      }
     ],
     "prompt_number": 27
    },
    {
     "cell_type": "code",
     "collapsed": false,
     "input": [
      "import email_generator as e"
     ],
     "language": "python",
     "metadata": {},
     "outputs": [],
     "prompt_number": 3
    },
    {
     "cell_type": "code",
     "collapsed": false,
     "input": [
      "emails = e.email_generator('dan', 'frank', '@yelp.com')"
     ],
     "language": "python",
     "metadata": {},
     "outputs": [],
     "prompt_number": 35
    },
    {
     "cell_type": "code",
     "collapsed": false,
     "input": [
      "\n",
      "for em in emails:\n",
      "    if e.checkmail(em):\n",
      "        print em"
     ],
     "language": "python",
     "metadata": {},
     "outputs": [
      {
       "ename": "TimeoutError",
       "evalue": "Timeout",
       "output_type": "pyerr",
       "traceback": [
        "\u001b[0;31m---------------------------------------------------------------------------\u001b[0m\n\u001b[0;31mTimeoutError\u001b[0m                              Traceback (most recent call last)",
        "\u001b[0;32m<ipython-input-36-3278c09ced04>\u001b[0m in \u001b[0;36m<module>\u001b[0;34m()\u001b[0m\n\u001b[1;32m      1\u001b[0m \u001b[0;34m\u001b[0m\u001b[0m\n\u001b[1;32m      2\u001b[0m \u001b[0;32mfor\u001b[0m \u001b[0mem\u001b[0m \u001b[0;32min\u001b[0m \u001b[0memails\u001b[0m\u001b[0;34m:\u001b[0m\u001b[0;34m\u001b[0m\u001b[0m\n\u001b[0;32m----> 3\u001b[0;31m     \u001b[0;32mif\u001b[0m \u001b[0me\u001b[0m\u001b[0;34m.\u001b[0m\u001b[0mcheckmail\u001b[0m\u001b[0;34m(\u001b[0m\u001b[0mem\u001b[0m\u001b[0;34m)\u001b[0m\u001b[0;34m:\u001b[0m\u001b[0;34m\u001b[0m\u001b[0m\n\u001b[0m\u001b[1;32m      4\u001b[0m         \u001b[0;32mprint\u001b[0m \u001b[0mem\u001b[0m\u001b[0;34m\u001b[0m\u001b[0m\n",
        "\u001b[0;32m/Users/Zipfian/Desktop/Ben_Bell/personal_projects/email_generator.py\u001b[0m in \u001b[0;36mcheckmail\u001b[0;34m(mail)\u001b[0m\n\u001b[1;32m     58\u001b[0m         \u001b[0mDNS\u001b[0m\u001b[0;34m.\u001b[0m\u001b[0mDiscoverNameServers\u001b[0m\u001b[0;34m(\u001b[0m\u001b[0;34m)\u001b[0m\u001b[0;34m\u001b[0m\u001b[0m\n\u001b[1;32m     59\u001b[0m         \u001b[0mhostname\u001b[0m \u001b[0;34m=\u001b[0m \u001b[0mmail\u001b[0m\u001b[0;34m[\u001b[0m\u001b[0mmail\u001b[0m\u001b[0;34m.\u001b[0m\u001b[0mfind\u001b[0m\u001b[0;34m(\u001b[0m\u001b[0;34m'@'\u001b[0m\u001b[0;34m)\u001b[0m\u001b[0;34m+\u001b[0m\u001b[0;36m1\u001b[0m\u001b[0;34m:\u001b[0m\u001b[0;34m]\u001b[0m\u001b[0;34m\u001b[0m\u001b[0m\n\u001b[0;32m---> 60\u001b[0;31m         \u001b[0mmx_hosts\u001b[0m \u001b[0;34m=\u001b[0m \u001b[0mDNS\u001b[0m\u001b[0;34m.\u001b[0m\u001b[0mmxlookup\u001b[0m\u001b[0;34m(\u001b[0m\u001b[0mhostname\u001b[0m\u001b[0;34m)\u001b[0m\u001b[0;34m\u001b[0m\u001b[0m\n\u001b[0m\u001b[1;32m     61\u001b[0m         \u001b[0mfailed_mx\u001b[0m \u001b[0;34m=\u001b[0m \u001b[0mTrue\u001b[0m\u001b[0;34m\u001b[0m\u001b[0m\n\u001b[1;32m     62\u001b[0m         \u001b[0;32mfor\u001b[0m \u001b[0mmx\u001b[0m \u001b[0;32min\u001b[0m \u001b[0mmx_hosts\u001b[0m\u001b[0;34m:\u001b[0m\u001b[0;34m\u001b[0m\u001b[0m\n",
        "\u001b[0;32m/Users/Zipfian/anaconda/lib/python2.7/site-packages/DNS/lazy.pyc\u001b[0m in \u001b[0;36mmxlookup\u001b[0;34m(name)\u001b[0m\n\u001b[1;32m     49\u001b[0m     \u001b[0msorted\u001b[0m \u001b[0mlist\u001b[0m \u001b[0mof\u001b[0m \u001b[0;34m(\u001b[0m\u001b[0mpreference\u001b[0m\u001b[0;34m,\u001b[0m \u001b[0mmail\u001b[0m \u001b[0mexchanger\u001b[0m\u001b[0;34m)\u001b[0m \u001b[0mrecords\u001b[0m\u001b[0;34m\u001b[0m\u001b[0m\n\u001b[1;32m     50\u001b[0m     \"\"\"\n\u001b[0;32m---> 51\u001b[0;31m     \u001b[0ml\u001b[0m \u001b[0;34m=\u001b[0m \u001b[0mdnslookup\u001b[0m\u001b[0;34m(\u001b[0m\u001b[0mname\u001b[0m\u001b[0;34m,\u001b[0m \u001b[0mqtype\u001b[0m \u001b[0;34m=\u001b[0m \u001b[0;34m'mx'\u001b[0m\u001b[0;34m)\u001b[0m\u001b[0;34m\u001b[0m\u001b[0m\n\u001b[0m\u001b[1;32m     52\u001b[0m     \u001b[0ml\u001b[0m\u001b[0;34m.\u001b[0m\u001b[0msort\u001b[0m\u001b[0;34m(\u001b[0m\u001b[0;34m)\u001b[0m\u001b[0;34m\u001b[0m\u001b[0m\n\u001b[1;32m     53\u001b[0m     \u001b[0;32mreturn\u001b[0m \u001b[0ml\u001b[0m\u001b[0;34m\u001b[0m\u001b[0m\n",
        "\u001b[0;32m/Users/Zipfian/anaconda/lib/python2.7/site-packages/DNS/lazy.pyc\u001b[0m in \u001b[0;36mdnslookup\u001b[0;34m(name, qtype)\u001b[0m\n\u001b[1;32m     32\u001b[0m     \u001b[0;34m\"convenience routine to return just answer data for any query type\"\u001b[0m\u001b[0;34m\u001b[0m\u001b[0m\n\u001b[1;32m     33\u001b[0m     \u001b[0;32mif\u001b[0m \u001b[0mBase\u001b[0m\u001b[0;34m.\u001b[0m\u001b[0mdefaults\u001b[0m\u001b[0;34m[\u001b[0m\u001b[0;34m'server'\u001b[0m\u001b[0;34m]\u001b[0m \u001b[0;34m==\u001b[0m \u001b[0;34m[\u001b[0m\u001b[0;34m]\u001b[0m\u001b[0;34m:\u001b[0m \u001b[0mBase\u001b[0m\u001b[0;34m.\u001b[0m\u001b[0mDiscoverNameServers\u001b[0m\u001b[0;34m(\u001b[0m\u001b[0;34m)\u001b[0m\u001b[0;34m\u001b[0m\u001b[0m\n\u001b[0;32m---> 34\u001b[0;31m     \u001b[0mresult\u001b[0m \u001b[0;34m=\u001b[0m \u001b[0mBase\u001b[0m\u001b[0;34m.\u001b[0m\u001b[0mDnsRequest\u001b[0m\u001b[0;34m(\u001b[0m\u001b[0mname\u001b[0m\u001b[0;34m=\u001b[0m\u001b[0mname\u001b[0m\u001b[0;34m,\u001b[0m \u001b[0mqtype\u001b[0m\u001b[0;34m=\u001b[0m\u001b[0mqtype\u001b[0m\u001b[0;34m)\u001b[0m\u001b[0;34m.\u001b[0m\u001b[0mreq\u001b[0m\u001b[0;34m(\u001b[0m\u001b[0;34m)\u001b[0m\u001b[0;34m\u001b[0m\u001b[0m\n\u001b[0m\u001b[1;32m     35\u001b[0m     \u001b[0;32mif\u001b[0m \u001b[0mresult\u001b[0m\u001b[0;34m.\u001b[0m\u001b[0mheader\u001b[0m\u001b[0;34m[\u001b[0m\u001b[0;34m'status'\u001b[0m\u001b[0;34m]\u001b[0m \u001b[0;34m!=\u001b[0m \u001b[0;34m'NOERROR'\u001b[0m\u001b[0;34m:\u001b[0m\u001b[0;34m\u001b[0m\u001b[0m\n\u001b[1;32m     36\u001b[0m         raise ServerError(\"DNS query status: %s\" % result.header['status'],\n",
        "\u001b[0;32m/Users/Zipfian/anaconda/lib/python2.7/site-packages/DNS/Base.pyc\u001b[0m in \u001b[0;36mreq\u001b[0;34m(self, *name, **args)\u001b[0m\n\u001b[1;32m    229\u001b[0m         \u001b[0;32mtry\u001b[0m\u001b[0;34m:\u001b[0m\u001b[0;34m\u001b[0m\u001b[0m\n\u001b[1;32m    230\u001b[0m             \u001b[0;32mif\u001b[0m \u001b[0mprotocol\u001b[0m \u001b[0;34m==\u001b[0m \u001b[0;34m'udp'\u001b[0m\u001b[0;34m:\u001b[0m\u001b[0;34m\u001b[0m\u001b[0m\n\u001b[0;32m--> 231\u001b[0;31m                 \u001b[0mself\u001b[0m\u001b[0;34m.\u001b[0m\u001b[0msendUDPRequest\u001b[0m\u001b[0;34m(\u001b[0m\u001b[0mserver\u001b[0m\u001b[0;34m)\u001b[0m\u001b[0;34m\u001b[0m\u001b[0m\n\u001b[0m\u001b[1;32m    232\u001b[0m             \u001b[0;32melse\u001b[0m\u001b[0;34m:\u001b[0m\u001b[0;34m\u001b[0m\u001b[0m\n\u001b[1;32m    233\u001b[0m                 \u001b[0mself\u001b[0m\u001b[0;34m.\u001b[0m\u001b[0msendTCPRequest\u001b[0m\u001b[0;34m(\u001b[0m\u001b[0mserver\u001b[0m\u001b[0;34m)\u001b[0m\u001b[0;34m\u001b[0m\u001b[0m\n",
        "\u001b[0;32m/Users/Zipfian/anaconda/lib/python2.7/site-packages/DNS/Base.pyc\u001b[0m in \u001b[0;36msendUDPRequest\u001b[0;34m(self, server)\u001b[0m\n\u001b[1;32m    258\u001b[0m                     \u001b[0;32mif\u001b[0m \u001b[0;32mnot\u001b[0m \u001b[0mself\u001b[0m\u001b[0;34m.\u001b[0m\u001b[0masync\u001b[0m\u001b[0;34m:\u001b[0m\u001b[0;34m\u001b[0m\u001b[0m\n\u001b[1;32m    259\u001b[0m                         \u001b[0mself\u001b[0m\u001b[0;34m.\u001b[0m\u001b[0ms\u001b[0m\u001b[0;34m.\u001b[0m\u001b[0msend\u001b[0m\u001b[0;34m(\u001b[0m\u001b[0mself\u001b[0m\u001b[0;34m.\u001b[0m\u001b[0mrequest\u001b[0m\u001b[0;34m)\u001b[0m\u001b[0;34m\u001b[0m\u001b[0m\n\u001b[0;32m--> 260\u001b[0;31m                         \u001b[0mr\u001b[0m\u001b[0;34m=\u001b[0m\u001b[0mself\u001b[0m\u001b[0;34m.\u001b[0m\u001b[0mprocessUDPReply\u001b[0m\u001b[0;34m(\u001b[0m\u001b[0;34m)\u001b[0m\u001b[0;34m\u001b[0m\u001b[0m\n\u001b[0m\u001b[1;32m    261\u001b[0m                         \u001b[0;31m# Since we bind to the source port and connect to the\u001b[0m\u001b[0;34m\u001b[0m\u001b[0;34m\u001b[0m\u001b[0m\n\u001b[1;32m    262\u001b[0m                         \u001b[0;31m# destination port, we don't need to check that here,\u001b[0m\u001b[0;34m\u001b[0m\u001b[0;34m\u001b[0m\u001b[0m\n",
        "\u001b[0;32m/Users/Zipfian/anaconda/lib/python2.7/site-packages/DNS/Base.pyc\u001b[0m in \u001b[0;36mprocessUDPReply\u001b[0;34m(self)\u001b[0m\n\u001b[1;32m    117\u001b[0m             \u001b[0mr\u001b[0m\u001b[0;34m,\u001b[0m\u001b[0mw\u001b[0m\u001b[0;34m,\u001b[0m\u001b[0me\u001b[0m \u001b[0;34m=\u001b[0m \u001b[0mselect\u001b[0m\u001b[0;34m.\u001b[0m\u001b[0mselect\u001b[0m\u001b[0;34m(\u001b[0m\u001b[0;34m[\u001b[0m\u001b[0mself\u001b[0m\u001b[0;34m.\u001b[0m\u001b[0ms\u001b[0m\u001b[0;34m]\u001b[0m\u001b[0;34m,\u001b[0m\u001b[0;34m[\u001b[0m\u001b[0;34m]\u001b[0m\u001b[0;34m,\u001b[0m\u001b[0;34m[\u001b[0m\u001b[0;34m]\u001b[0m\u001b[0;34m,\u001b[0m\u001b[0mself\u001b[0m\u001b[0;34m.\u001b[0m\u001b[0mtimeout\u001b[0m\u001b[0;34m)\u001b[0m\u001b[0;34m\u001b[0m\u001b[0m\n\u001b[1;32m    118\u001b[0m             \u001b[0;32mif\u001b[0m \u001b[0;32mnot\u001b[0m \u001b[0mlen\u001b[0m\u001b[0;34m(\u001b[0m\u001b[0mr\u001b[0m\u001b[0;34m)\u001b[0m\u001b[0;34m:\u001b[0m\u001b[0;34m\u001b[0m\u001b[0m\n\u001b[0;32m--> 119\u001b[0;31m                 \u001b[0;32mraise\u001b[0m \u001b[0mTimeoutError\u001b[0m\u001b[0;34m,\u001b[0m \u001b[0;34m'Timeout'\u001b[0m\u001b[0;34m\u001b[0m\u001b[0m\n\u001b[0m\u001b[1;32m    120\u001b[0m         \u001b[0;34m(\u001b[0m\u001b[0mself\u001b[0m\u001b[0;34m.\u001b[0m\u001b[0mreply\u001b[0m\u001b[0;34m,\u001b[0m \u001b[0mself\u001b[0m\u001b[0;34m.\u001b[0m\u001b[0mfrom_address\u001b[0m\u001b[0;34m)\u001b[0m \u001b[0;34m=\u001b[0m \u001b[0mself\u001b[0m\u001b[0;34m.\u001b[0m\u001b[0ms\u001b[0m\u001b[0;34m.\u001b[0m\u001b[0mrecvfrom\u001b[0m\u001b[0;34m(\u001b[0m\u001b[0;36m65535\u001b[0m\u001b[0;34m)\u001b[0m\u001b[0;34m\u001b[0m\u001b[0m\n\u001b[1;32m    121\u001b[0m         \u001b[0mself\u001b[0m\u001b[0;34m.\u001b[0m\u001b[0mtime_finish\u001b[0m\u001b[0;34m=\u001b[0m\u001b[0mtime\u001b[0m\u001b[0;34m.\u001b[0m\u001b[0mtime\u001b[0m\u001b[0;34m(\u001b[0m\u001b[0;34m)\u001b[0m\u001b[0;34m\u001b[0m\u001b[0m\n",
        "\u001b[0;31mTimeoutError\u001b[0m: Timeout"
       ]
      },
      {
       "output_type": "stream",
       "stream": "stdout",
       "text": [
        "dfrank@yelp.com\n"
       ]
      }
     ],
     "prompt_number": 36
    },
    {
     "cell_type": "code",
     "collapsed": false,
     "input": [
      "checkmail('dfrank@yelp.com')"
     ],
     "language": "python",
     "metadata": {},
     "outputs": [
      {
       "output_type": "stream",
       "stream": "stdout",
       "text": [
        "checking dfrank@yelp.com...\n",
        "Stage 1 (MX lookup & connect) successful."
       ]
      },
      {
       "output_type": "stream",
       "stream": "stdout",
       "text": [
        "\n",
        "250 2.1.5 OK n7si8066760ige.50 - gsmtp\r\n"
       ]
      },
      {
       "output_type": "stream",
       "stream": "stdout",
       "text": [
        "\n",
        "Address valid.\n",
        "failed_mx False\n",
        "\n"
       ]
      },
      {
       "metadata": {},
       "output_type": "pyout",
       "prompt_number": 37,
       "text": [
        "True"
       ]
      }
     ],
     "prompt_number": 37
    },
    {
     "cell_type": "code",
     "collapsed": false,
     "input": [
      "e.checkmail('dfrank@yelp.com')"
     ],
     "language": "python",
     "metadata": {},
     "outputs": [
      {
       "metadata": {},
       "output_type": "pyout",
       "prompt_number": 38,
       "text": [
        "True"
       ]
      }
     ],
     "prompt_number": 38
    },
    {
     "cell_type": "code",
     "collapsed": false,
     "input": [
      "raise TimeoutError, 'Timeout'"
     ],
     "language": "python",
     "metadata": {},
     "outputs": [
      {
       "ename": "NameError",
       "evalue": "name 'TimeoutError' is not defined",
       "output_type": "pyerr",
       "traceback": [
        "\u001b[0;31m---------------------------------------------------------------------------\u001b[0m\n\u001b[0;31mNameError\u001b[0m                                 Traceback (most recent call last)",
        "\u001b[0;32m<ipython-input-39-25615dc28f70>\u001b[0m in \u001b[0;36m<module>\u001b[0;34m()\u001b[0m\n\u001b[0;32m----> 1\u001b[0;31m \u001b[0;32mraise\u001b[0m \u001b[0mTimeoutError\u001b[0m\u001b[0;34m,\u001b[0m \u001b[0;34m'Timeout'\u001b[0m\u001b[0;34m\u001b[0m\u001b[0m\n\u001b[0m",
        "\u001b[0;31mNameError\u001b[0m: name 'TimeoutError' is not defined"
       ]
      }
     ],
     "prompt_number": 39
    },
    {
     "cell_type": "code",
     "collapsed": false,
     "input": [
      "import TimeoutError"
     ],
     "language": "python",
     "metadata": {},
     "outputs": [
      {
       "ename": "ImportError",
       "evalue": "No module named TimeoutError",
       "output_type": "pyerr",
       "traceback": [
        "\u001b[0;31m---------------------------------------------------------------------------\u001b[0m\n\u001b[0;31mImportError\u001b[0m                               Traceback (most recent call last)",
        "\u001b[0;32m<ipython-input-40-0063b5b1212b>\u001b[0m in \u001b[0;36m<module>\u001b[0;34m()\u001b[0m\n\u001b[0;32m----> 1\u001b[0;31m \u001b[0;32mimport\u001b[0m \u001b[0mTimeoutError\u001b[0m\u001b[0;34m\u001b[0m\u001b[0m\n\u001b[0m",
        "\u001b[0;31mImportError\u001b[0m: No module named TimeoutError"
       ]
      }
     ],
     "prompt_number": 40
    },
    {
     "cell_type": "code",
     "collapsed": false,
     "input": [
      "e.gen_correct_emails('dick','costolo','@twitter.com')"
     ],
     "language": "python",
     "metadata": {},
     "outputs": [
      {
       "output_type": "stream",
       "stream": "stdout",
       "text": [
        "failed email dickcost@twitter.com\n",
        "failed email"
       ]
      },
      {
       "output_type": "stream",
       "stream": "stdout",
       "text": [
        " costol_dick@twitter.com\n",
        "dick@twitter.com"
       ]
      },
      {
       "output_type": "stream",
       "stream": "stdout",
       "text": [
        "\n"
       ]
      },
      {
       "metadata": {},
       "output_type": "pyout",
       "prompt_number": 55,
       "text": [
        "['dick@twitter.com']"
       ]
      }
     ],
     "prompt_number": 55
    },
    {
     "cell_type": "code",
     "collapsed": false,
     "input": [
      "e.email_generator('dick','costolo','@tesla.com').index('danfra@yelp.com')"
     ],
     "language": "python",
     "metadata": {},
     "outputs": [
      {
       "output_type": "stream",
       "stream": "stderr",
       "text": [
        "[autoreload of email_generator failed: Traceback (most recent call last):\n",
        "  File \"/Users/Zipfian/anaconda/lib/python2.7/site-packages/IPython/extensions/autoreload.py\", line 229, in check\n",
        "    superreload(m, reload, self.old_objects)\n",
        "  File \"email_generator.py\", line 105\n",
        "    if checkmail(em):\n",
        "     ^\n",
        "IndentationError: expected an indented block\n",
        "]\n"
       ]
      },
      {
       "metadata": {},
       "output_type": "pyout",
       "prompt_number": 9,
       "text": [
        "24"
       ]
      }
     ],
     "prompt_number": 9
    },
    {
     "cell_type": "code",
     "collapsed": false,
     "input": [
      "len(e.email_generator('linus','lee','@twitter.com'))"
     ],
     "language": "python",
     "metadata": {},
     "outputs": [
      {
       "metadata": {},
       "output_type": "pyout",
       "prompt_number": 8,
       "text": [
        "50"
       ]
      }
     ],
     "prompt_number": 8
    },
    {
     "cell_type": "code",
     "collapsed": false,
     "input": [
      "from validate_email import validate_email\n"
     ],
     "language": "python",
     "metadata": {},
     "outputs": [],
     "prompt_number": 32
    },
    {
     "cell_type": "code",
     "collapsed": false,
     "input": [
      "validate_email('bsbell2asdfase1@gmail.com',check_mx=True)"
     ],
     "language": "python",
     "metadata": {},
     "outputs": [
      {
       "metadata": {},
       "output_type": "pyout",
       "prompt_number": 67,
       "text": [
        "True"
       ]
      }
     ],
     "prompt_number": 67
    },
    {
     "cell_type": "code",
     "collapsed": false,
     "input": [
      "from interruptingcow import timeout"
     ],
     "language": "python",
     "metadata": {},
     "outputs": [],
     "prompt_number": 39
    },
    {
     "cell_type": "code",
     "collapsed": false,
     "input": [
      "timeout("
     ],
     "language": "python",
     "metadata": {},
     "outputs": []
    }
   ],
   "metadata": {}
  }
 ]
}