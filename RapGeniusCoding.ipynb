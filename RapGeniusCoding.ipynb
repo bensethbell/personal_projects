{
 "metadata": {
  "name": "",
  "signature": "sha256:d1bfc5ffa5795cc0f3138646ad152c6fd53ed4f4b95126cf390c0b5a9f126780"
 },
 "nbformat": 3,
 "nbformat_minor": 0,
 "worksheets": [
  {
   "cells": [
    {
     "cell_type": "code",
     "collapsed": false,
     "input": [
      "import requests"
     ],
     "language": "python",
     "metadata": {},
     "outputs": [],
     "prompt_number": 1
    },
    {
     "cell_type": "code",
     "collapsed": false,
     "input": [
      "r = requests.get('https://api.import.io/store/data/0c3256fc-4a05-4386-b19a-48b2aeb4fa45/_query?input/webpage/url=http%3A%2F%2Fgenius.com%2Falbums%2FMac-miller%2FFaces&_user=0565f7d7-d5ce-4635-a673-8ddb96a02fb9&_apikey=OmBhVcyUvjrw3thTTSswzk9dTDGkF33sfFLBrx6TLGwWjIPRNaGmBLVpnlnDlhBvJ9Luocll06RG2sdYB%2BYrfg%3D%3D')"
     ],
     "language": "python",
     "metadata": {},
     "outputs": [],
     "prompt_number": 2
    },
    {
     "cell_type": "code",
     "collapsed": false,
     "input": [
      "r.json()['results']"
     ],
     "language": "python",
     "metadata": {},
     "outputs": [
      {
       "metadata": {},
       "output_type": "pyout",
       "prompt_number": 3,
       "text": [
        "[{u'album_name': u'Faces',\n",
        "  u'artist': u'Mac Miller',\n",
        "  u'artist_link': u'http://genius.com/artists/Mac-miller',\n",
        "  u'artist_link/_text': u'Mac Miller',\n",
        "  u'song_links': [u'http://rap.genius.com/Mac-miller-inside-outside-lyrics',\n",
        "   u'http://rap.genius.com/Mac-miller-here-we-go-lyrics',\n",
        "   u'http://rap.genius.com/Mac-miller-friends-lyrics',\n",
        "   u'http://rap.genius.com/Mac-miller-angel-dust-lyrics',\n",
        "   u'http://rap.genius.com/Mac-miller-malibu-lyrics',\n",
        "   u'http://rap.genius.com/Mac-miller-what-do-you-do-lyrics',\n",
        "   u'http://rap.genius.com/Mac-miller-it-just-doesnt-matter-lyrics',\n",
        "   u'http://rap.genius.com/Mac-miller-therapy-lyrics',\n",
        "   u'http://rap.genius.com/Mac-miller-polo-jeans-lyrics',\n",
        "   u'http://rap.genius.com/Mac-miller-happy-birthday-lyrics',\n",
        "   u'http://rap.genius.com/Mac-miller-wedding-lyrics',\n",
        "   u'http://rap.genius.com/Mac-miller-funeral-lyrics',\n",
        "   u'http://rap.genius.com/Mac-miller-diablo-lyrics',\n",
        "   u'http://rap.genius.com/Mac-miller-diablo-lyrics',\n",
        "   u'http://rap.genius.com/Mac-miller-ave-maria-lyrics',\n",
        "   u'http://rap.genius.com/Mac-miller-55-lyrics',\n",
        "   u'http://rap.genius.com/Mac-miller-san-francisco-lyrics',\n",
        "   u'http://rap.genius.com/Mac-miller-colors-and-shapes-lyrics',\n",
        "   u'http://rap.genius.com/Mac-miller-insomniak-lyrics',\n",
        "   u'http://rap.genius.com/Mac-miller-uber-lyrics',\n",
        "   u'http://rap.genius.com/Mac-miller-rain-lyrics'],\n",
        "  u'song_links/_text': [u'Inside Outside by Mac Miller Lyrics',\n",
        "   u'Here We Go by Mac Miller Lyrics',\n",
        "   u'Friends by Mac Miller Lyrics',\n",
        "   u'Angel Dust by Mac Miller Lyrics',\n",
        "   u'Malibu by Mac Miller Lyrics',\n",
        "   u'What Do You Do by Mac Miller Lyrics',\n",
        "   u\"It Just Doesn't Matter by Mac Miller Lyrics\",\n",
        "   u'Therapy by Mac Miller Lyrics',\n",
        "   u'Polo Jeans by Mac Miller Lyrics',\n",
        "   u'Happy Birthday by Mac Miller Lyrics',\n",
        "   u'Wedding by Mac Miller Lyrics',\n",
        "   u'Funeral by Mac Miller Lyrics',\n",
        "   u'Diablo by Mac Miller Lyrics',\n",
        "   u'Diablo by Mac Miller Lyrics',\n",
        "   u'Ave Maria by Mac Miller Lyrics',\n",
        "   u'55 by Mac Miller Lyrics',\n",
        "   u'San Francisco by Mac Miller Lyrics',\n",
        "   u'Colors And Shapes by Mac Miller Lyrics',\n",
        "   u'Insomniak by Mac Miller Lyrics',\n",
        "   u'Uber by Mac Miller Lyrics',\n",
        "   u'Rain by Mac Miller Lyrics'],\n",
        "  u'song_links/_title': [u'Inside Outside by\\xa0Mac\\xa0Miller Lyrics',\n",
        "   u'Here We Go by\\xa0Mac\\xa0Miller Lyrics',\n",
        "   u'Friends by\\xa0Mac\\xa0Miller Lyrics',\n",
        "   u'Angel Dust by\\xa0Mac\\xa0Miller Lyrics',\n",
        "   u'Malibu by\\xa0Mac\\xa0Miller Lyrics',\n",
        "   u'What Do You Do by\\xa0Mac\\xa0Miller Lyrics',\n",
        "   u\"It Just Doesn't Matter by\\xa0Mac\\xa0Miller Lyrics\",\n",
        "   u'Therapy by\\xa0Mac\\xa0Miller Lyrics',\n",
        "   u'Polo Jeans by\\xa0Mac\\xa0Miller Lyrics',\n",
        "   u'Happy Birthday by\\xa0Mac\\xa0Miller Lyrics',\n",
        "   u'Wedding by\\xa0Mac\\xa0Miller Lyrics',\n",
        "   u'Funeral by\\xa0Mac\\xa0Miller Lyrics',\n",
        "   u'Diablo by\\xa0Mac\\xa0Miller Lyrics',\n",
        "   u'Diablo by\\xa0Mac\\xa0Miller Lyrics',\n",
        "   u'Ave Maria by\\xa0Mac\\xa0Miller Lyrics',\n",
        "   u'55 by\\xa0Mac\\xa0Miller Lyrics',\n",
        "   u'San Francisco by\\xa0Mac\\xa0Miller Lyrics',\n",
        "   u'Colors And Shapes by\\xa0Mac\\xa0Miller Lyrics',\n",
        "   u'Insomniak by\\xa0Mac\\xa0Miller Lyrics',\n",
        "   u'Uber by\\xa0Mac\\xa0Miller Lyrics',\n",
        "   u'Rain by\\xa0Mac\\xa0Miller Lyrics'],\n",
        "  u'year': u'(2014)'}]"
       ]
      }
     ],
     "prompt_number": 3
    },
    {
     "cell_type": "code",
     "collapsed": false,
     "input": [
      "url = 'https://api.import.io/store/data/0c3256fc-4a05-4386-b19a-48b2aeb4fa45/_query'\n",
      "params = {\n",
      "'input/webpage/url': 'http://genius.com/albums/Mac-miller/Faces'\n",
      "\n",
      "\n",
      "}"
     ],
     "language": "python",
     "metadata": {},
     "outputs": []
    },
    {
     "cell_type": "code",
     "collapsed": false,
     "input": [
      "from pymongo import MongoClient\n"
     ],
     "language": "python",
     "metadata": {},
     "outputs": [],
     "prompt_number": 8
    },
    {
     "cell_type": "code",
     "collapsed": false,
     "input": [
      "import pandas as pd"
     ],
     "language": "python",
     "metadata": {},
     "outputs": [],
     "prompt_number": 9
    },
    {
     "cell_type": "code",
     "collapsed": false,
     "input": [
      "df_rap = pd.read_csv('/Volumes/Data/')"
     ],
     "language": "python",
     "metadata": {},
     "outputs": []
    }
   ],
   "metadata": {}
  }
 ]
}